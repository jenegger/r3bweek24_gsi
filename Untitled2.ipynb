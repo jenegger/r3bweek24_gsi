{
 "cells": [
  {
   "cell_type": "code",
   "execution_count": 1,
   "id": "96e68bff",
   "metadata": {},
   "outputs": [],
   "source": [
    "import pandas as pd\n",
    "\n",
    "# Step 1: Read the two text files into pandas DataFrames\n",
    "\n",
    "df1 = pd.read_csv(\"lise_revised_11C.txt\",sep='\\t',names=[\"datatype\",\"targettype\",\"RunID\",\"energy\",\"d_reacted_carbon\",\"all_carbon\"])\n",
    "df2 = pd.read_csv(\"lise_revised_10C.txt\",sep='\\t',names=[\"datatype\",\"targettype\",\"RunID\",\"energy\",\"d_reacted_carbon\",\"all_carbon\"])\n",
    "df1[\"d_12c_survived\"] = 1- df1[\"d_reacted_carbon\"]\n",
    "df2[\"d_12c_survived\"] = 1- df2[\"d_reacted_carbon\"]"
   ]
  },
  {
   "cell_type": "code",
   "execution_count": 2,
   "id": "86294a52",
   "metadata": {},
   "outputs": [],
   "source": [
    "comb_10_11 = df1[\"d_reacted_carbon\"] + df2[\"d_reacted_carbon\"]"
   ]
  },
  {
   "cell_type": "code",
   "execution_count": 3,
   "id": "e2262416",
   "metadata": {},
   "outputs": [
    {
     "name": "stdout",
     "output_type": "stream",
     "text": [
      "0     0.003089\n",
      "1     0.003089\n",
      "2     0.003089\n",
      "3     0.003089\n",
      "4     0.006104\n",
      "5     0.006117\n",
      "6     0.006117\n",
      "7     0.006117\n",
      "8     0.012429\n",
      "9     0.012430\n",
      "10    0.012430\n",
      "11    0.012428\n",
      "12    0.000000\n",
      "13    0.000000\n",
      "14    0.000000\n",
      "15    0.000000\n",
      "Name: d_reacted_carbon, dtype: float64\n"
     ]
    }
   ],
   "source": [
    "print(comb_10_11)"
   ]
  },
  {
   "cell_type": "code",
   "execution_count": 4,
   "id": "3f21f415",
   "metadata": {},
   "outputs": [
    {
     "name": "stdout",
     "output_type": "stream",
     "text": [
      "   datatype targettype  RunID  energy  all_carbon\n",
      "0       sim       c_54      5     400     1000000\n",
      "1       sim       c_54      6     550     1000000\n",
      "2       sim       c_54      7     650     1000000\n",
      "3       sim       c_54      8     800     1000000\n",
      "4       sim     c_1086      1     400     1000000\n",
      "5       sim     c_1086      2     550     1000000\n",
      "6       sim     c_1086      3     650     1000000\n",
      "7       sim     c_1086      4     800     1000000\n",
      "8       sim     c_2198      9     400     1000000\n",
      "9       sim     c_2198     10     550     1000000\n",
      "10      sim     c_2198     11     650     1000000\n",
      "11      sim     c_2198     12     800     1000000\n",
      "12      sim      empty     13     400     1000000\n",
      "13      sim      empty     14     550     1000000\n",
      "14      sim      empty     15     650     1000000\n",
      "15      sim      empty     16     800     1000000\n"
     ]
    }
   ],
   "source": [
    "df_final = df1.copy()\n",
    "\n",
    "df_final.drop(columns=['d_12c_survived','d_reacted_carbon'],inplace=True)\n",
    "print(df_final)\n",
    "df_final[\"d_reacted_carbon\"] = comb_10_11"
   ]
  },
  {
   "cell_type": "code",
   "execution_count": 5,
   "id": "e204197d",
   "metadata": {},
   "outputs": [
    {
     "data": {
      "text/html": [
       "<div>\n",
       "<style scoped>\n",
       "    .dataframe tbody tr th:only-of-type {\n",
       "        vertical-align: middle;\n",
       "    }\n",
       "\n",
       "    .dataframe tbody tr th {\n",
       "        vertical-align: top;\n",
       "    }\n",
       "\n",
       "    .dataframe thead th {\n",
       "        text-align: right;\n",
       "    }\n",
       "</style>\n",
       "<table border=\"1\" class=\"dataframe\">\n",
       "  <thead>\n",
       "    <tr style=\"text-align: right;\">\n",
       "      <th></th>\n",
       "      <th>datatype</th>\n",
       "      <th>targettype</th>\n",
       "      <th>RunID</th>\n",
       "      <th>energy</th>\n",
       "      <th>all_carbon</th>\n",
       "      <th>d_reacted_carbon</th>\n",
       "    </tr>\n",
       "  </thead>\n",
       "  <tbody>\n",
       "    <tr>\n",
       "      <th>0</th>\n",
       "      <td>sim</td>\n",
       "      <td>c_54</td>\n",
       "      <td>5</td>\n",
       "      <td>400</td>\n",
       "      <td>1000000</td>\n",
       "      <td>0.003089</td>\n",
       "    </tr>\n",
       "    <tr>\n",
       "      <th>1</th>\n",
       "      <td>sim</td>\n",
       "      <td>c_54</td>\n",
       "      <td>6</td>\n",
       "      <td>550</td>\n",
       "      <td>1000000</td>\n",
       "      <td>0.003089</td>\n",
       "    </tr>\n",
       "    <tr>\n",
       "      <th>2</th>\n",
       "      <td>sim</td>\n",
       "      <td>c_54</td>\n",
       "      <td>7</td>\n",
       "      <td>650</td>\n",
       "      <td>1000000</td>\n",
       "      <td>0.003089</td>\n",
       "    </tr>\n",
       "    <tr>\n",
       "      <th>3</th>\n",
       "      <td>sim</td>\n",
       "      <td>c_54</td>\n",
       "      <td>8</td>\n",
       "      <td>800</td>\n",
       "      <td>1000000</td>\n",
       "      <td>0.003089</td>\n",
       "    </tr>\n",
       "    <tr>\n",
       "      <th>4</th>\n",
       "      <td>sim</td>\n",
       "      <td>c_1086</td>\n",
       "      <td>1</td>\n",
       "      <td>400</td>\n",
       "      <td>1000000</td>\n",
       "      <td>0.006104</td>\n",
       "    </tr>\n",
       "    <tr>\n",
       "      <th>5</th>\n",
       "      <td>sim</td>\n",
       "      <td>c_1086</td>\n",
       "      <td>2</td>\n",
       "      <td>550</td>\n",
       "      <td>1000000</td>\n",
       "      <td>0.006117</td>\n",
       "    </tr>\n",
       "    <tr>\n",
       "      <th>6</th>\n",
       "      <td>sim</td>\n",
       "      <td>c_1086</td>\n",
       "      <td>3</td>\n",
       "      <td>650</td>\n",
       "      <td>1000000</td>\n",
       "      <td>0.006117</td>\n",
       "    </tr>\n",
       "    <tr>\n",
       "      <th>7</th>\n",
       "      <td>sim</td>\n",
       "      <td>c_1086</td>\n",
       "      <td>4</td>\n",
       "      <td>800</td>\n",
       "      <td>1000000</td>\n",
       "      <td>0.006117</td>\n",
       "    </tr>\n",
       "    <tr>\n",
       "      <th>8</th>\n",
       "      <td>sim</td>\n",
       "      <td>c_2198</td>\n",
       "      <td>9</td>\n",
       "      <td>400</td>\n",
       "      <td>1000000</td>\n",
       "      <td>0.012429</td>\n",
       "    </tr>\n",
       "    <tr>\n",
       "      <th>9</th>\n",
       "      <td>sim</td>\n",
       "      <td>c_2198</td>\n",
       "      <td>10</td>\n",
       "      <td>550</td>\n",
       "      <td>1000000</td>\n",
       "      <td>0.012430</td>\n",
       "    </tr>\n",
       "    <tr>\n",
       "      <th>10</th>\n",
       "      <td>sim</td>\n",
       "      <td>c_2198</td>\n",
       "      <td>11</td>\n",
       "      <td>650</td>\n",
       "      <td>1000000</td>\n",
       "      <td>0.012430</td>\n",
       "    </tr>\n",
       "    <tr>\n",
       "      <th>11</th>\n",
       "      <td>sim</td>\n",
       "      <td>c_2198</td>\n",
       "      <td>12</td>\n",
       "      <td>800</td>\n",
       "      <td>1000000</td>\n",
       "      <td>0.012428</td>\n",
       "    </tr>\n",
       "    <tr>\n",
       "      <th>12</th>\n",
       "      <td>sim</td>\n",
       "      <td>empty</td>\n",
       "      <td>13</td>\n",
       "      <td>400</td>\n",
       "      <td>1000000</td>\n",
       "      <td>0.000000</td>\n",
       "    </tr>\n",
       "    <tr>\n",
       "      <th>13</th>\n",
       "      <td>sim</td>\n",
       "      <td>empty</td>\n",
       "      <td>14</td>\n",
       "      <td>550</td>\n",
       "      <td>1000000</td>\n",
       "      <td>0.000000</td>\n",
       "    </tr>\n",
       "    <tr>\n",
       "      <th>14</th>\n",
       "      <td>sim</td>\n",
       "      <td>empty</td>\n",
       "      <td>15</td>\n",
       "      <td>650</td>\n",
       "      <td>1000000</td>\n",
       "      <td>0.000000</td>\n",
       "    </tr>\n",
       "    <tr>\n",
       "      <th>15</th>\n",
       "      <td>sim</td>\n",
       "      <td>empty</td>\n",
       "      <td>16</td>\n",
       "      <td>800</td>\n",
       "      <td>1000000</td>\n",
       "      <td>0.000000</td>\n",
       "    </tr>\n",
       "  </tbody>\n",
       "</table>\n",
       "</div>"
      ],
      "text/plain": [
       "   datatype targettype  RunID  energy  all_carbon  d_reacted_carbon\n",
       "0       sim       c_54      5     400     1000000          0.003089\n",
       "1       sim       c_54      6     550     1000000          0.003089\n",
       "2       sim       c_54      7     650     1000000          0.003089\n",
       "3       sim       c_54      8     800     1000000          0.003089\n",
       "4       sim     c_1086      1     400     1000000          0.006104\n",
       "5       sim     c_1086      2     550     1000000          0.006117\n",
       "6       sim     c_1086      3     650     1000000          0.006117\n",
       "7       sim     c_1086      4     800     1000000          0.006117\n",
       "8       sim     c_2198      9     400     1000000          0.012429\n",
       "9       sim     c_2198     10     550     1000000          0.012430\n",
       "10      sim     c_2198     11     650     1000000          0.012430\n",
       "11      sim     c_2198     12     800     1000000          0.012428\n",
       "12      sim      empty     13     400     1000000          0.000000\n",
       "13      sim      empty     14     550     1000000          0.000000\n",
       "14      sim      empty     15     650     1000000          0.000000\n",
       "15      sim      empty     16     800     1000000          0.000000"
      ]
     },
     "execution_count": 5,
     "metadata": {},
     "output_type": "execute_result"
    }
   ],
   "source": [
    "df_final"
   ]
  },
  {
   "cell_type": "code",
   "execution_count": 6,
   "id": "d93dfc9b",
   "metadata": {},
   "outputs": [
    {
     "name": "stdout",
     "output_type": "stream",
     "text": [
      "   datatype targettype  RunID  energy  d_reacted_carbon  all_carbon\n",
      "0       sim       c_54      5     400          0.003089     1000000\n",
      "1       sim       c_54      6     550          0.003089     1000000\n",
      "2       sim       c_54      7     650          0.003089     1000000\n",
      "3       sim       c_54      8     800          0.003089     1000000\n",
      "4       sim     c_1086      1     400          0.006104     1000000\n",
      "5       sim     c_1086      2     550          0.006117     1000000\n",
      "6       sim     c_1086      3     650          0.006117     1000000\n",
      "7       sim     c_1086      4     800          0.006117     1000000\n",
      "8       sim     c_2198      9     400          0.012429     1000000\n",
      "9       sim     c_2198     10     550          0.012430     1000000\n",
      "10      sim     c_2198     11     650          0.012430     1000000\n",
      "11      sim     c_2198     12     800          0.012428     1000000\n",
      "12      sim      empty     13     400          0.000000     1000000\n",
      "13      sim      empty     14     550          0.000000     1000000\n",
      "14      sim      empty     15     650          0.000000     1000000\n",
      "15      sim      empty     16     800          0.000000     1000000\n"
     ]
    }
   ],
   "source": [
    "df_final = df_final.reindex(columns=[\"datatype\",\"targettype\",\"RunID\",\"energy\",\"d_reacted_carbon\",\"all_carbon\"])\n",
    "print(df_final)"
   ]
  },
  {
   "cell_type": "code",
   "execution_count": 7,
   "id": "1ef8a9d0",
   "metadata": {},
   "outputs": [],
   "source": [
    "df_final.to_csv('lise_revised_carbon_iso_corr.txt', sep='\\t', index=False,header=False)"
   ]
  },
  {
   "cell_type": "code",
   "execution_count": 8,
   "id": "c650d052",
   "metadata": {},
   "outputs": [
    {
     "data": {
      "text/plain": [
       "datatype             object\n",
       "targettype           object\n",
       "RunID                 int64\n",
       "energy                int64\n",
       "d_reacted_carbon    float64\n",
       "all_carbon            int64\n",
       "d_12c_survived      float64\n",
       "dtype: object"
      ]
     },
     "execution_count": 8,
     "metadata": {},
     "output_type": "execute_result"
    }
   ],
   "source": [
    "df1.dtypes\n"
   ]
  },
  {
   "cell_type": "code",
   "execution_count": 9,
   "id": "a2fcc700",
   "metadata": {},
   "outputs": [
    {
     "data": {
      "text/plain": [
       "datatype             object\n",
       "targettype           object\n",
       "RunID                 int64\n",
       "energy                int64\n",
       "d_reacted_carbon    float64\n",
       "all_carbon            int64\n",
       "dtype: object"
      ]
     },
     "execution_count": 9,
     "metadata": {},
     "output_type": "execute_result"
    }
   ],
   "source": [
    "df_final.dtypes"
   ]
  },
  {
   "cell_type": "code",
   "execution_count": 10,
   "id": "ced7604c",
   "metadata": {},
   "outputs": [],
   "source": [
    "dd = pd.read_csv(\"lise_revised_carbon_iso_corr.txt\",sep='\\t',names=[\"datatype\",\"targettype\",\"RunID\",\"energy\",\"d_reacted_carbon\",\"all_carbon\"])\n"
   ]
  },
  {
   "cell_type": "code",
   "execution_count": 11,
   "id": "16fce828",
   "metadata": {},
   "outputs": [
    {
     "data": {
      "text/plain": [
       "datatype             object\n",
       "targettype           object\n",
       "RunID                 int64\n",
       "energy                int64\n",
       "d_reacted_carbon    float64\n",
       "all_carbon            int64\n",
       "dtype: object"
      ]
     },
     "execution_count": 11,
     "metadata": {},
     "output_type": "execute_result"
    }
   ],
   "source": [
    "dd.dtypes"
   ]
  },
  {
   "cell_type": "code",
   "execution_count": null,
   "id": "3a842024",
   "metadata": {},
   "outputs": [],
   "source": []
  }
 ],
 "metadata": {
  "kernelspec": {
   "display_name": "Python 3",
   "language": "python",
   "name": "python3"
  },
  "language_info": {
   "codemirror_mode": {
    "name": "ipython",
    "version": 3
   },
   "file_extension": ".py",
   "mimetype": "text/x-python",
   "name": "python",
   "nbconvert_exporter": "python",
   "pygments_lexer": "ipython3",
   "version": "3.6.9"
  }
 },
 "nbformat": 4,
 "nbformat_minor": 5
}
