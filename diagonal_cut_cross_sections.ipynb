{
 "cells": [
  {
   "cell_type": "code",
   "execution_count": 1,
   "id": "5824326c",
   "metadata": {},
   "outputs": [],
   "source": [
    "#!/bin/python3\n",
    "import matplotlib.pyplot as plt\n",
    "import pandas as pd\n",
    "import math\n",
    "import numpy as np\n",
    "import copy\n"
   ]
  },
  {
   "cell_type": "markdown",
   "id": "0420a0c4",
   "metadata": {},
   "source": [
    "## energy sorted charges, real diagonal cut 3.5 sigma"
   ]
  },
  {
   "cell_type": "code",
   "execution_count": 2,
   "id": "7a74f24b",
   "metadata": {},
   "outputs": [],
   "source": [
    "filename = \"result_diagonal_cut_charge_changing.txt\"\n",
    "#filename = \"result_diagonal_cut_charge_changing_4_1sigma.txt\"\n",
    "df = pd.read_csv(filename,sep='\\t',names=[\"datatype\",\"targettype\",\"RunID\",\"energy\",\"incoming ions\",\"survived_ions\"])\n",
    "df[\"d_survived\"] = 1-df[\"survived_ions\"]/df[\"incoming ions\"]"
   ]
  },
  {
   "cell_type": "code",
   "execution_count": 3,
   "id": "8cac74d2",
   "metadata": {},
   "outputs": [],
   "source": [
    "new_density = 1.851\n",
    "T_2198 = (new_density)*(2.1928)*(6.02214076)*(pow(10,23))/(12.011);\n",
    "T_1086 = (new_density)*(1.0793)*(6.02214076)*(pow(10,23))/(12.011);\n",
    "T_54 = (new_density)*(0.5451)*(6.02214076)*(pow(10,23))/(12.011);\n",
    "factor_2198 = (1./T_2198)*(pow(10,27))\n",
    "factor_1086 = (1./T_1086)*(pow(10,27))\n",
    "factor_54 = (1./T_54)*(pow(10,27))"
   ]
  },
  {
   "cell_type": "code",
   "execution_count": 4,
   "id": "515836c0",
   "metadata": {},
   "outputs": [
    {
     "name": "stdout",
     "output_type": "stream",
     "text": [
      "737.6838419820584\n",
      "740.189504905952\n",
      "756.2775133944865\n",
      "761.7601528494947\n"
     ]
    }
   ],
   "source": [
    "cc_2198_val = []\n",
    "cc_1086_val = []\n",
    "cc_54_val = []\n",
    "energy_vals = [\"400\",\"550\",\"650\",\"800\"]\n",
    "for ene in energy_vals:\n",
    "    dz_2198 = (1-float(df.loc[(df[\"targettype\"] == \"c_2198\") & (df[\"energy\"] == float(ene))]['d_survived']))/(1-float(df.loc[(df[\"targettype\"] == \"empty\") & (df[\"energy\"] == float(ene))]['d_survived']))\n",
    "    dz_1086 = (1-float(df.loc[(df[\"targettype\"] == \"c_1086\") & (df[\"energy\"] == float(ene))]['d_survived']))/(1-float(df.loc[(df[\"targettype\"] == \"empty\") & (df[\"energy\"] == float(ene))]['d_survived']))\n",
    "    dz_54 = (1-float(df.loc[(df[\"targettype\"] == \"c_54\") & (df[\"energy\"] == float(ene))]['d_survived']))/(1-float(df.loc[(df[\"targettype\"] == \"empty\") & (df[\"energy\"] == float(ene))]['d_survived']))\n",
    "\n",
    "    cc_2198 = factor_2198*(-math.log(dz_2198))\n",
    "    cc_1086 = factor_1086*(-math.log(dz_1086))\n",
    "    cc_54 = factor_54*(-math.log(dz_54))\n",
    "    cc_2198_val.append(cc_2198)\n",
    "    cc_1086_val.append(cc_1086)\n",
    "    cc_54_val.append(cc_54)\n",
    "    print(cc_2198)"
   ]
  },
  {
   "cell_type": "code",
   "execution_count": 5,
   "id": "71433d12",
   "metadata": {},
   "outputs": [
    {
     "data": {
      "image/png": "[encoded data removed]",
      "text/plain": [
       "<Figure size 432x288 with 1 Axes>"
      ]
     },
     "metadata": {
      "needs_background": "light"
     },
     "output_type": "display_data"
    }
   ],
   "source": [
    "fig, ax = plt.subplots()\n",
    "ax.scatter(energy_vals,cc_2198_val,label=\"charge_changing 2198\",color='red',marker=\"o\")\n",
    "ax.scatter(energy_vals,cc_1086_val,label=\"charge_changing 1086\",color ='red',marker=\"v\")\n",
    "ax.scatter(energy_vals,cc_54_val,label=\"charge_changing 54\",color='red',marker=\"s\")\n",
    "ax.legend()\n",
    "ax.grid()"
   ]
  },
  {
   "cell_type": "code",
   "execution_count": null,
   "id": "72c01d10",
   "metadata": {},
   "outputs": [],
   "source": []
  }
 ],
 "metadata": {
  "kernelspec": {
   "display_name": "Python 3",
   "language": "python",
   "name": "python3"
  },
  "language_info": {
   "codemirror_mode": {
    "name": "ipython",
    "version": 3
   },
   "file_extension": ".py",
   "mimetype": "text/x-python",
   "name": "python",
   "nbconvert_exporter": "python",
   "pygments_lexer": "ipython3",
   "version": "3.6.9"
  }
 },
 "nbformat": 4,
 "nbformat_minor": 5
}
