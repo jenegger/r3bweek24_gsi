{
 "cells": [
  {
   "cell_type": "code",
   "execution_count": 1,
   "id": "3d073302",
   "metadata": {},
   "outputs": [],
   "source": [
    "import torch\n",
    "from torch import nn"
   ]
  },
  {
   "cell_type": "code",
   "execution_count": 2,
   "id": "42be9ea4",
   "metadata": {},
   "outputs": [
    {
     "name": "stdout",
     "output_type": "stream",
     "text": [
      "torch.Size([2, 3, 4])\n"
     ]
    }
   ],
   "source": [
    "x = torch.randn(2, 3, 4)\n",
    "print(x.shape)"
   ]
  },
  {
   "cell_type": "code",
   "execution_count": 3,
   "id": "0d6df507",
   "metadata": {},
   "outputs": [
    {
     "data": {
      "text/plain": [
       "tensor([[[ 0.9533, -1.2959, -1.1756, -1.0459],\n",
       "         [-0.3859,  3.4442,  1.1814,  1.1253],\n",
       "         [ 0.5723, -0.0623,  0.1812, -0.2262]],\n",
       "\n",
       "        [[ 1.4191, -0.1602, -0.1697,  1.4051],\n",
       "         [ 0.2457,  0.4404,  0.6126, -0.6358],\n",
       "         [-0.2398, -0.3749, -1.5754, -0.5406]]])"
      ]
     },
     "execution_count": 3,
     "metadata": {},
     "output_type": "execute_result"
    }
   ],
   "source": [
    "x\n",
    "\n"
   ]
  },
  {
   "cell_type": "code",
   "execution_count": 4,
   "id": "3b5457a2",
   "metadata": {},
   "outputs": [
    {
     "name": "stdout",
     "output_type": "stream",
     "text": [
      "torch.Size([2, 1, 3, 4])\n"
     ]
    }
   ],
   "source": [
    "x = x[:,None]\n",
    "print(x.shape)"
   ]
  },
  {
   "cell_type": "code",
   "execution_count": 5,
   "id": "4aae9fe5",
   "metadata": {},
   "outputs": [
    {
     "name": "stdout",
     "output_type": "stream",
     "text": [
      "torch.Size([2, 3, 4])\n"
     ]
    }
   ],
   "source": [
    "y = torch.randn(2, 3,4)\n",
    "print(y.shape)"
   ]
  },
  {
   "cell_type": "code",
   "execution_count": 6,
   "id": "1801b04f",
   "metadata": {},
   "outputs": [
    {
     "name": "stdout",
     "output_type": "stream",
     "text": [
      "torch.Size([2, 3, 1, 4])\n"
     ]
    }
   ],
   "source": [
    "y = y[:,:,None]\n",
    "print(y.shape)"
   ]
  },
  {
   "cell_type": "markdown",
   "id": "8c1f4239",
   "metadata": {},
   "source": [
    "# now test concatenating broadcast...."
   ]
  },
  {
   "cell_type": "code",
   "execution_count": 11,
   "id": "01ca66a0",
   "metadata": {},
   "outputs": [
    {
     "name": "stdout",
     "output_type": "stream",
     "text": [
      "tensor([[[ 0.7802],\n",
      "         [-0.9952],\n",
      "         [ 1.7478]]])\n",
      "torch.Size([1, 3, 3, 2])\n",
      "this is the output tensor\n",
      "tensor([[[[ 0.7802,  0.7802],\n",
      "          [ 0.7802, -0.9952],\n",
      "          [ 0.7802,  1.7478]],\n",
      "\n",
      "         [[-0.9952,  0.7802],\n",
      "          [-0.9952, -0.9952],\n",
      "          [-0.9952,  1.7478]],\n",
      "\n",
      "         [[ 1.7478,  0.7802],\n",
      "          [ 1.7478, -0.9952],\n",
      "          [ 1.7478,  1.7478]]]])\n",
      "this works perfectly!!!!\n"
     ]
    }
   ],
   "source": [
    "input_tensor = torch.randn(1, 3, 1)\n",
    "print(input_tensor)\n",
    "\n",
    "# Expand the dimensions to allow for pairwise combinations\n",
    "tensor_i = input_tensor.unsqueeze(2)  # shape: (64, 10, 1, 32)\n",
    "tensor_j = input_tensor.unsqueeze(1)  # shape: (64, 1, 10, 32)\n",
    "\n",
    "# Compute the pairwise combinations of all vectors\n",
    "pairwise_tensor = tensor_i + tensor_j  # shape: (64, 10, 10, 32)\n",
    "\n",
    "# Reshape or permute to get the desired output shape\n",
    "# To match the shape (64, 10, 10, 64), concatenate along the last dimension\n",
    "output_tensor = torch.cat([tensor_i.expand(-1, -1, 3, -1), tensor_j.expand(-1, 3, -1, -1)], dim=-1)\n",
    "\n",
    "print(output_tensor.shape)  # Should print torch.Size([64, 10, 10, 64])\n",
    "print(\"this is the output tensor\")\n",
    "print(output_tensor)\n",
    "print(\"this works perfectly!!!!\")"
   ]
  },
  {
   "cell_type": "code",
   "execution_count": null,
   "id": "90651eb2",
   "metadata": {},
   "outputs": [],
   "source": [
    "net = nn.Sequential(\n",
    "      nn.Linear(64, 32), \n",
    "      nn.RELU \n",
    "      nn.Sigmoid(),\n",
    "      nn.Linear(4, 1),\n",
    "      nn.Sigmoid()\n",
    "      ).to(device)"
   ]
  }
 ],
 "metadata": {
  "kernelspec": {
   "display_name": "Python 3",
   "language": "python",
   "name": "python3"
  },
  "language_info": {
   "codemirror_mode": {
    "name": "ipython",
    "version": 3
   },
   "file_extension": ".py",
   "mimetype": "text/x-python",
   "name": "python",
   "nbconvert_exporter": "python",
   "pygments_lexer": "ipython3",
   "version": "3.6.9"
  }
 },
 "nbformat": 4,
 "nbformat_minor": 5
}
