{
 "cells": [
  {
   "cell_type": "code",
   "execution_count": 1,
   "id": "87e1d009-72d9-4ffe-a192-10c5a54cddf5",
   "metadata": {},
   "outputs": [],
   "source": [
    "#!/bin/python3\n",
    "import matplotlib.pyplot as plt\n",
    "import pandas as pd\n",
    "import math\n",
    "import numpy as np\n",
    "import copy"
   ]
  },
  {
   "cell_type": "markdown",
   "id": "6feb4094-ed7c-4613-8b94-650a6df19152",
   "metadata": {},
   "source": [
    "### statisitcs with uncertainties for charge changing with geometric corrections"
   ]
  },
  {
   "cell_type": "code",
   "execution_count": 2,
   "id": "57d50246-00eb-4cd7-83f8-ee4cc7e3e91d",
   "metadata": {},
   "outputs": [],
   "source": [
    "def stat_errors_charge(filename_cc,geo_corr_file,target_thickness,adding):\n",
    "    targettype = None\n",
    "    factor = None\n",
    "    n_t = None\n",
    "    delta_n_t = None\n",
    "    new_density = 1.851\n",
    "    T_2198 = (new_density)*(2.1928)*(6.02214076)*(pow(10,23))/(12.011);\n",
    "    T_1086 = (new_density)*(1.0793)*(6.02214076)*(pow(10,23))/(12.011);\n",
    "    T_54 = (new_density)*(0.5451)*(6.02214076)*(pow(10,23))/(12.011);\n",
    "    if (target_thickness == \"thin\"):\n",
    "        targettype = \"c_54\"\n",
    "        factor = (1./T_54)*(pow(10,27))\n",
    "        n_t = T_54\n",
    "        delta_n_t = 0.000648\n",
    "    if (target_thickness == \"medium\"):\n",
    "        targettype = \"c_1086\"\n",
    "        n_t = T_1086\n",
    "        delta_n_t = 0.002620\n",
    "        factor = (1./T_1086)*(pow(10,27))\n",
    "    if (target_thickness == \"thick\"):\n",
    "        targettype = \"c_2198\"\n",
    "        n_t = T_2198\n",
    "        delta_n_t = 0.000322\n",
    "        factor = (1./T_2198)*(pow(10,27))\n",
    "        \n",
    "    ##data frame for charge changing\n",
    "    df_cc = pd.read_csv(filename_cc,sep='\\t',names=[\"datatype\",\"targettype\",\"RunID\",\"energy\",\"incoming ions\",\"survived_ions\"])\n",
    "    df_cc[\"d_carbon_survived\"] = df_cc[\"survived_ions\"]/df_cc[\"incoming ions\"]\n",
    "    ##data frame for geo correction\n",
    "    df_geo = pd.read_csv(geo_corr_file,sep='\\t',names=[\"datatype\",\"targettype\",\"RunID\",\"energy\",\"geo_corr_factor\"])\n",
    "    ### this step of doing the inverse is just needed for twim eff numbers!! DANGEROUS!\n",
    "    df_geo[\"geo_corr_factor\"] = 1./df_geo[\"geo_corr_factor\"]\n",
    "\n",
    "    cc_error_val = []\n",
    "    cc_cs = []\n",
    "    cc_cs_geo = []\n",
    "    energy_vals = [\"400\",\"550\",\"650\",\"800\"]\n",
    "    for ene in energy_vals:\n",
    "        #charge changing cross section\n",
    "        dz = (float(df_cc.loc[(df_cc[\"targettype\"] == targettype) & (df_cc[\"energy\"] == float(ene))]['d_carbon_survived']))/(float(df_cc.loc[(df_cc[\"targettype\"] == \"empty\") & (df_cc[\"energy\"] == float(ene))]['d_carbon_survived']))\n",
    "        cc = factor*(-math.log(dz))\n",
    "        cc_cs.append(cc)\n",
    "        #geo corr cross section\n",
    "        d_geo = float(df_geo.loc[(df_geo[\"targettype\"] == targettype)& (df_geo[\"energy\"] == float(ene))][\"geo_corr_factor\"])/float(df_geo.loc[(df_geo[\"targettype\"] == \"empty\")& (df_geo[\"energy\"] == float(ene))][\"geo_corr_factor\"])\n",
    "        cs_geo = factor*(-math.log(d_geo))\n",
    "        if (adding ==\"true\"):\n",
    "            cc_cs_geo.append(cc+cs_geo) \n",
    "            print(\"hellooo\")\n",
    "        if (adding == \"false\"):\n",
    "            cc_cs_geo.append(cc)\n",
    "            print(\"not hello\")\n",
    "\n",
    "        ##now doing the stat. uncertainty calculations\n",
    "        \n",
    "        ### target thickness uncertainty\n",
    "        target_error = pow(cc*delta_n_t,2)\n",
    "        print(\"this is the target error\",target_error)\n",
    "\n",
    "        ### charge changing uncertainties\n",
    "        r_cc_target = float(df_cc.loc[(df_cc[\"targettype\"] == targettype) & (df_cc[\"energy\"] == float(ene))]['d_carbon_survived'])\n",
    "        r_cc_empty = float(df_cc.loc[(df_cc[\"targettype\"] == \"empty\") & (df_cc[\"energy\"] == float(ene))]['d_carbon_survived'])\n",
    "        n_i_t_cc = float(df_cc.loc[(df_cc[\"targettype\"] == targettype) & (df_cc[\"energy\"] == float(ene))]['incoming ions'])\n",
    "        n_i_e_cc = float(df_cc.loc[(df_cc[\"targettype\"] == \"empty\") & (df_cc[\"energy\"] == float(ene))]['incoming ions'])\n",
    "        cc_error = (pow(10,54))*(1./(n_t*n_t))*((1-r_cc_target)/(r_cc_target*n_i_t_cc)+(1-r_cc_empty)/(r_cc_empty*n_i_e_cc))\n",
    "        cc_error_val.append(math.sqrt(target_error+cc_error))\n",
    "\n",
    "    return cc_cs_geo,cc_error_val"
   ]
  },
  {
   "cell_type": "markdown",
   "id": "3dd3ad70-d7e8-4f6d-bc87-367ae2146525",
   "metadata": {},
   "source": [
    "### here I use as geometric correction the twim efficiency factor\n",
    "---"
   ]
  },
  {
   "cell_type": "code",
   "execution_count": 3,
   "id": "fa486a3c-9303-4057-be51-0f33dd4516b0",
   "metadata": {},
   "outputs": [
    {
     "name": "stdout",
     "output_type": "stream",
     "text": [
      "hellooo\n",
      "this is the target error 0.22818684283492688\n",
      "hellooo\n",
      "this is the target error 0.23504783717448632\n",
      "hellooo\n",
      "this is the target error 0.2364418163502543\n",
      "hellooo\n",
      "this is the target error 0.2397797436896805\n",
      "hellooo\n",
      "this is the target error 3.7208775694407707\n",
      "hellooo\n",
      "this is the target error 3.788395097452836\n",
      "hellooo\n",
      "this is the target error 3.846320483437709\n",
      "hellooo\n",
      "this is the target error 3.8884509510021514\n",
      "hellooo\n",
      "this is the target error 0.05602484968303486\n",
      "hellooo\n",
      "this is the target error 0.05656417162321622\n",
      "hellooo\n",
      "this is the target error 0.05905211368420743\n",
      "hellooo\n",
      "this is the target error 0.05988258222120142\n",
      "not hello\n",
      "this is the target error 0.22818684283492688\n",
      "not hello\n",
      "this is the target error 0.23504783717448632\n",
      "not hello\n",
      "this is the target error 0.2364418163502543\n",
      "not hello\n",
      "this is the target error 0.2397797436896805\n",
      "not hello\n",
      "this is the target error 3.7208775694407707\n",
      "not hello\n",
      "this is the target error 3.788395097452836\n",
      "not hello\n",
      "this is the target error 3.846320483437709\n",
      "not hello\n",
      "this is the target error 3.8884509510021514\n",
      "not hello\n",
      "this is the target error 0.05602484968303486\n",
      "not hello\n",
      "this is the target error 0.05656417162321622\n",
      "not hello\n",
      "this is the target error 0.05905211368420743\n",
      "not hello\n",
      "this is the target error 0.05988258222120142\n"
     ]
    }
   ],
   "source": [
    "filename_cc = 'numbers/comb_gauss2d_border.txt'\n",
    "filename_geo_corr = \"total_eff_twim.txt\"\n",
    "\n",
    "cc_cs_geo_thin,cc_geo_error_thin = stat_errors_charge(filename_cc,filename_geo_corr,\"thin\",'true')\n",
    "cc_cs_geo_medium,cc_geo_error_medium = stat_errors_charge(filename_cc,filename_geo_corr,\"medium\",'true')\n",
    "cc_cs_geo_thick,cc_geo_error_thick = stat_errors_charge(filename_cc,filename_geo_corr,\"thick\",'true')\n",
    "\n",
    "\n",
    "cc_cs_geo_thin_f,cc_geo_error_thin_f = stat_errors_charge(filename_cc,filename_geo_corr,\"thin\",'false')\n",
    "cc_cs_geo_medium_f,cc_geo_error_medium_f = stat_errors_charge(filename_cc,filename_geo_corr,\"medium\",'false')\n",
    "cc_cs_geo_thick_f,cc_geo_error_thick_f = stat_errors_charge(filename_cc,filename_geo_corr,\"thick\",'false')\n"
   ]
  },
  {
   "cell_type": "code",
   "execution_count": 4,
   "id": "0c8046d6-4e14-4f4c-9643-9d42e842e9a3",
   "metadata": {},
   "outputs": [
    {
     "data": {
      "image/png": "[encoded data removed]",
      "text/plain": [
       "<Figure size 432x288 with 1 Axes>"
      ]
     },
     "metadata": {
      "needs_background": "light"
     },
     "output_type": "display_data"
    }
   ],
   "source": [
    "fig, ax = plt.subplots()\n",
    "#fig.tight_layout()\n",
    "energy = [400,550,650,800]\n",
    "ax.errorbar(energy,cc_cs_geo_thick,yerr=cc_geo_error_thick,label=\"thick target\",color='red',marker=\"o\",fmt=\"o\")\n",
    "\n",
    "energy = [405,555,655,805]\n",
    "ax.errorbar(energy,cc_cs_geo_medium,yerr=cc_geo_error_medium,label=\"medium target\",color='green',marker=\"v\",fmt=\"o\")\n",
    "\n",
    "energy = [410,560,660,810]\n",
    "ax.errorbar(energy,cc_cs_geo_thin,yerr=cc_geo_error_thin,label=\"thin target\",color='blue',marker=\"s\",fmt=\"o\")\n",
    "\n",
    "## whithout geo correction , in gray\n",
    "energy = [400,550,650,800]\n",
    "ax.errorbar(energy,cc_cs_geo_thick_f,yerr=cc_geo_error_thick_f,label=\"thick target\",color='gray',marker=\"o\",fmt=\"o\",alpha=0.5)\n",
    "\n",
    "energy = [405,555,655,805]\n",
    "ax.errorbar(energy,cc_cs_geo_medium_f,yerr=cc_geo_error_medium_f,label=\"medium target\",color='gray',marker=\"v\",fmt=\"o\",alpha=0.5)\n",
    "\n",
    "energy = [410,560,660,810]\n",
    "ax.errorbar(energy,cc_cs_geo_thin_f,yerr=cc_geo_error_thin_f,label=\"thin target\",color='gray',marker=\"s\",fmt=\"o\",alpha=0.5)\n",
    "\n",
    "ax.legend()\n",
    "ax.grid()\n",
    "ax.set_xlabel(\"Beam Energy [AMeV]\")\n",
    "ax.set_ylabel(\"Charge Changing Cross Section [mbarn]\")\n",
    "ax.set_title(\"Charge Changing Cross Section - Geometric Corrections\")\n",
    "#ax.set_ylim(740,890)\n",
    "plt.savefig(\"charge_changing_cross_sec_twim_eff_corr.png\")"
   ]
  },
  {
   "cell_type": "markdown",
   "id": "48ef0db3-ca72-4f31-9027-1280b05fa683",
   "metadata": {},
   "source": [
    "---"
   ]
  },
  {
   "cell_type": "markdown",
   "id": "d8cfeb69-8fd0-468f-bd83-baaf9848453d",
   "metadata": {},
   "source": [
    "### here I use as geo correction the real geo cuts...\n",
    "---"
   ]
  },
  {
   "cell_type": "code",
   "execution_count": 5,
   "id": "217e1340-a13a-4c71-a6de-6ea8584f0151",
   "metadata": {},
   "outputs": [
    {
     "name": "stdout",
     "output_type": "stream",
     "text": [
      "hellooo\n",
      "this is the target error 0.22818684283492688\n",
      "hellooo\n",
      "this is the target error 0.23504783717448632\n",
      "hellooo\n",
      "this is the target error 0.2364418163502543\n",
      "hellooo\n",
      "this is the target error 0.2397797436896805\n",
      "hellooo\n",
      "this is the target error 3.7208775694407707\n",
      "hellooo\n",
      "this is the target error 3.788395097452836\n",
      "hellooo\n",
      "this is the target error 3.846320483437709\n",
      "hellooo\n",
      "this is the target error 3.8884509510021514\n",
      "hellooo\n",
      "this is the target error 0.05602484968303486\n",
      "hellooo\n",
      "this is the target error 0.05656417162321622\n",
      "hellooo\n",
      "this is the target error 0.05905211368420743\n",
      "hellooo\n",
      "this is the target error 0.05988258222120142\n",
      "not hello\n",
      "this is the target error 0.22818684283492688\n",
      "not hello\n",
      "this is the target error 0.23504783717448632\n",
      "not hello\n",
      "this is the target error 0.2364418163502543\n",
      "not hello\n",
      "this is the target error 0.2397797436896805\n",
      "not hello\n",
      "this is the target error 3.7208775694407707\n",
      "not hello\n",
      "this is the target error 3.788395097452836\n",
      "not hello\n",
      "this is the target error 3.846320483437709\n",
      "not hello\n",
      "this is the target error 3.8884509510021514\n",
      "not hello\n",
      "this is the target error 0.05602484968303486\n",
      "not hello\n",
      "this is the target error 0.05656417162321622\n",
      "not hello\n",
      "this is the target error 0.05905211368420743\n",
      "not hello\n",
      "this is the target error 0.05988258222120142\n"
     ]
    }
   ],
   "source": [
    "filename_cc = 'numbers/comb_gauss2d_border.txt'\n",
    "filename_geo_corr = \"orig_geo_corr_factor.txt\"\n",
    "\n",
    "cc_cs_geo_thin,cc_geo_error_thin = stat_errors_charge(filename_cc,filename_geo_corr,\"thin\",'true')\n",
    "cc_cs_geo_medium,cc_geo_error_medium = stat_errors_charge(filename_cc,filename_geo_corr,\"medium\",'true')\n",
    "cc_cs_geo_thick,cc_geo_error_thick = stat_errors_charge(filename_cc,filename_geo_corr,\"thick\",'true')\n",
    "\n",
    "\n",
    "cc_cs_geo_thin_f,cc_geo_error_thin_f = stat_errors_charge(filename_cc,filename_geo_corr,\"thin\",'false')\n",
    "cc_cs_geo_medium_f,cc_geo_error_medium_f = stat_errors_charge(filename_cc,filename_geo_corr,\"medium\",'false')\n",
    "cc_cs_geo_thick_f,cc_geo_error_thick_f = stat_errors_charge(filename_cc,filename_geo_corr,\"thick\",'false')"
   ]
  },
  {
   "cell_type": "code",
   "execution_count": 6,
   "id": "baca8a8d-f383-43c4-9041-960f1ee8b75d",
   "metadata": {},
   "outputs": [
    {
     "data": {
      "image/png": "[encoded data removed]",
      "text/plain": [
       "<Figure size 432x288 with 1 Axes>"
      ]
     },
     "metadata": {
      "needs_background": "light"
     },
     "output_type": "display_data"
    }
   ],
   "source": [
    "fig, ax = plt.subplots()\n",
    "#fig.tight_layout()\n",
    "energy = [400,550,650,800]\n",
    "ax.errorbar(energy,cc_cs_geo_thick,yerr=cc_geo_error_thick,label=\"thick target\",color='red',marker=\"o\",fmt=\"o\")\n",
    "\n",
    "energy = [405,555,655,805]\n",
    "ax.errorbar(energy,cc_cs_geo_medium,yerr=cc_geo_error_medium,label=\"medium target\",color='green',marker=\"v\",fmt=\"o\")\n",
    "\n",
    "energy = [410,560,660,810]\n",
    "ax.errorbar(energy,cc_cs_geo_thin,yerr=cc_geo_error_thin,label=\"thin target\",color='blue',marker=\"s\",fmt=\"o\")\n",
    "\n",
    "## whithout geo correction , in gray\n",
    "energy = [400,550,650,800]\n",
    "ax.errorbar(energy,cc_cs_geo_thick_f,yerr=cc_geo_error_thick_f,label=\"thick target\",color='gray',marker=\"o\",fmt=\"o\",alpha=0.5)\n",
    "\n",
    "energy = [405,555,655,805]\n",
    "ax.errorbar(energy,cc_cs_geo_medium_f,yerr=cc_geo_error_medium_f,label=\"medium target\",color='gray',marker=\"v\",fmt=\"o\",alpha=0.5)\n",
    "\n",
    "energy = [410,560,660,810]\n",
    "ax.errorbar(energy,cc_cs_geo_thin_f,yerr=cc_geo_error_thin_f,label=\"thin target\",color='gray',marker=\"s\",fmt=\"o\",alpha=0.5)\n",
    "\n",
    "ax.legend()\n",
    "ax.grid()\n",
    "ax.set_xlabel(\"Beam Energy [AMeV]\")\n",
    "ax.set_ylabel(\"Charge Changing Cross Section [mbarn]\")\n",
    "ax.set_title(\"Charge Changing Cross Section - Geometric Corrections\")\n",
    "#ax.set_ylim(740,890)\n",
    "plt.savefig(\"charge_changing_cross_sec_geo_cut_corr.png\")"
   ]
  }
 ],
 "metadata": {
  "kernelspec": {
   "display_name": "Python 3",
   "language": "python",
   "name": "python3"
  },
  "language_info": {
   "codemirror_mode": {
    "name": "ipython",
    "version": 3
   },
   "file_extension": ".py",
   "mimetype": "text/x-python",
   "name": "python",
   "nbconvert_exporter": "python",
   "pygments_lexer": "ipython3",
   "version": "3.6.9"
  }
 },
 "nbformat": 4,
 "nbformat_minor": 5
}
