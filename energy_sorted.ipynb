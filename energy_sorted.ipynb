{
 "cells": [
  {
   "cell_type": "code",
   "execution_count": 1,
   "id": "022d3832-6648-43a2-8485-b4371806c556",
   "metadata": {},
   "outputs": [],
   "source": [
    "#!/bin/python3\n",
    "import matplotlib.pyplot as plt\n",
    "import pandas as pd\n",
    "import math\n",
    "import numpy as np\n",
    "import copy\n"
   ]
  },
  {
   "cell_type": "code",
   "execution_count": 2,
   "id": "0b197231-aa68-4361-908f-2cc15dac721e",
   "metadata": {},
   "outputs": [],
   "source": [
    "#filename = \"result_energy_sorting.txt\"\n",
    "#filename = \"result_diagonal_plus_energy.txt\"\n",
    "#filename =\"result_diagonal_no_first_last_anode.txt\"\n",
    "#filename = \"result_diag_no_two_last_first.txt\"\n",
    "filename = \"result_diagonal_no_three_first_last.txt\"\n",
    "df = pd.read_csv(filename,sep='\\t',names=[\"datatype\",\"targettype\",\"RunID\",\"energy\",\"incoming ions\",\"survived_ions\"])\n",
    "df[\"d_survived\"] = 1-df[\"survived_ions\"]/df[\"incoming ions\"]\n"
   ]
  },
  {
   "cell_type": "code",
   "execution_count": 3,
   "id": "1074e5cb-190b-4493-8f13-cab74b04dbf0",
   "metadata": {},
   "outputs": [],
   "source": [
    "new_density = 1.851\n",
    "T_2198 = (new_density)*(2.1928)*(6.02214076)*(pow(10,23))/(12.011);\n",
    "T_1086 = (new_density)*(1.0793)*(6.02214076)*(pow(10,23))/(12.011);\n",
    "T_54 = (new_density)*(0.5451)*(6.02214076)*(pow(10,23))/(12.011);\n",
    "factor_2198 = (1./T_2198)*(pow(10,27))\n",
    "factor_1086 = (1./T_1086)*(pow(10,27))\n",
    "factor_54 = (1./T_54)*(pow(10,27))"
   ]
  },
  {
   "cell_type": "code",
   "execution_count": 4,
   "id": "03c79bd7-0cdb-4523-80bd-0f5740b08a7d",
   "metadata": {},
   "outputs": [
    {
     "name": "stdout",
     "output_type": "stream",
     "text": [
      "739.7544772848909\n",
      "741.9237671156488\n",
      "738.7637668094113\n",
      "747.6117214106583\n"
     ]
    }
   ],
   "source": [
    "cc_2198_val = []\n",
    "cc_1086_val = []\n",
    "cc_54_val = []\n",
    "energy_vals = [\"400\",\"550\",\"650\",\"800\"]\n",
    "for ene in energy_vals:\n",
    "    dz_2198 = (1-float(df.loc[(df[\"targettype\"] == \"c_2198\") & (df[\"energy\"] == float(ene))]['d_survived']))/(1-float(df.loc[(df[\"targettype\"] == \"empty\") & (df[\"energy\"] == float(ene))]['d_survived']))\n",
    "    dz_1086 = (1-float(df.loc[(df[\"targettype\"] == \"c_1086\") & (df[\"energy\"] == float(ene))]['d_survived']))/(1-float(df.loc[(df[\"targettype\"] == \"empty\") & (df[\"energy\"] == float(ene))]['d_survived']))\n",
    "    dz_54 = (1-float(df.loc[(df[\"targettype\"] == \"c_54\") & (df[\"energy\"] == float(ene))]['d_survived']))/(1-float(df.loc[(df[\"targettype\"] == \"empty\") & (df[\"energy\"] == float(ene))]['d_survived']))\n",
    "\n",
    "    cc_2198 = factor_2198*(-math.log(dz_2198))\n",
    "    cc_1086 = factor_1086*(-math.log(dz_1086))\n",
    "    cc_54 = factor_54*(-math.log(dz_54))\n",
    "    cc_2198_val.append(cc_2198)\n",
    "    cc_1086_val.append(cc_1086)\n",
    "    cc_54_val.append(cc_54)\n",
    "    print(cc_1086)"
   ]
  },
  {
   "cell_type": "code",
   "execution_count": 5,
   "id": "ce655c56-800a-480d-a096-c00bf9c9f57f",
   "metadata": {},
   "outputs": [
    {
     "data": {
      "image/png": "[encoded data removed]",
      "text/plain": [
       "<Figure size 432x288 with 1 Axes>"
      ]
     },
     "metadata": {
      "needs_background": "light"
     },
     "output_type": "display_data"
    }
   ],
   "source": [
    "fig, ax = plt.subplots()\n",
    "ax.scatter(energy_vals,cc_2198_val,label=\"charge_changing 2198\",color='red',marker=\"o\")\n",
    "ax.scatter(energy_vals,cc_1086_val,label=\"charge_changing 1086\",color ='red',marker=\"v\")\n",
    "ax.scatter(energy_vals,cc_54_val,label=\"charge_changing 54\",color='red',marker=\"s\")\n",
    "ax.legend()\n",
    "ax.grid()"
   ]
  }
 ],
 "metadata": {
  "kernelspec": {
   "display_name": "Python 3",
   "language": "python",
   "name": "python3"
  },
  "language_info": {
   "codemirror_mode": {
    "name": "ipython",
    "version": 3
   },
   "file_extension": ".py",
   "mimetype": "text/x-python",
   "name": "python",
   "nbconvert_exporter": "python",
   "pygments_lexer": "ipython3",
   "version": "3.6.9"
  }
 },
 "nbformat": 4,
 "nbformat_minor": 5
}
