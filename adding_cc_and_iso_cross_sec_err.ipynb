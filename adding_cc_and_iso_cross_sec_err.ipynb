{
 "cells": [
  {
   "cell_type": "code",
   "execution_count": 1,
   "id": "db73a203",
   "metadata": {},
   "outputs": [],
   "source": [
    "import pandas as pd\n",
    "import numpy as np"
   ]
  },
  {
   "cell_type": "code",
   "execution_count": 2,
   "id": "c5782bba",
   "metadata": {},
   "outputs": [
    {
     "name": "stdout",
     "output_type": "stream",
     "text": [
      "Empty DataFrame\n",
      "Columns: [datatype, targettype, RunID, energy, tot_cs, tot_err]\n",
      "Index: []\n"
     ]
    }
   ],
   "source": [
    "file_cc_cs = \"geo_corr_output_cc_cs_final.txt\"\n",
    "df_cc_cs = pd.read_csv(file_cc_cs,sep='\\t',names=[\"datatype\",\"targettype\",\"RunID\",\"energy\",\"cross_sec\",\"error\"])\n",
    "\n",
    "file_iso_cs = \"iso_corr_output_cc_cs_final.txt\"\n",
    "df_iso_cs = pd.read_csv(file_iso_cs,sep='\\t',names=[\"datatype\",\"targettype\",\"RunID\",\"energy\",\"cross_sec\",\"error\"])\n",
    "\n",
    "df_merged = pd.merge(df_cc_cs, df_iso_cs, on=[\"datatype\", \"targettype\", \"RunID\", \"energy\"], suffixes=('_1', '_2'))\n",
    "\n",
    "# Calculate total cross section and error\n",
    "df_merged[\"tot_cs\"] = df_merged[\"cross_sec_1\"] + df_merged[\"cross_sec_2\"]\n",
    "df_merged[\"tot_err\"] = np.sqrt(df_merged[\"error_1\"]**2 + df_merged[\"error_2\"]**2)\n",
    "\n",
    "# Select and reorder columns as needed\n",
    "result_df = df_merged[[\"datatype\", \"targettype\", \"RunID\", \"energy\", \"tot_cs\", \"tot_err\"]]\n",
    "\n",
    "print(result_df)\n",
    "\n",
    "# Save as tab-separated file without header\n",
    "result_df.to_csv(\"merged_tot_cross_sections.txt\", sep='\\t', index=False, header=False)\n",
    "\n",
    "\n",
    "\n"
   ]
  },
  {
   "cell_type": "code",
   "execution_count": 3,
   "id": "83933568",
   "metadata": {},
   "outputs": [
    {
     "name": "stdout",
     "output_type": "stream",
     "text": [
      "   datatype targettype      RunID  energy  cross_sec_cc  cc_error_stat  \\\n",
      "0       exp       c_54  0179_0001   400.0    728.084200       5.108122   \n",
      "1       exp       c_54  0099_0001   550.0    737.263608       5.635642   \n",
      "2       exp       c_54  0126_0001   650.0    743.377688       5.338442   \n",
      "3       exp       c_54  0166_0001   800.0    763.429594       6.479895   \n",
      "4       exp     c_1086  0181_0001   400.0    728.489026       3.093252   \n",
      "5       exp     c_1086  0101_0001   550.0    733.961162       3.536312   \n",
      "6       exp     c_1086  0127_0001   650.0    742.576507       3.346688   \n",
      "7       exp     c_1086  0168_0001   800.0    756.778679       4.255142   \n",
      "8       exp     c_2198  0183_0001   400.0    722.164844       1.928944   \n",
      "9       exp     c_2198  0103_0001   550.0    739.347207       2.308102   \n",
      "10      exp     c_2198  0130_0001   650.0    748.301557       2.143833   \n",
      "11      exp     c_2198  0170_0001   800.0    758.005555       2.403770   \n",
      "\n",
      "    cc_error_sys  cross_sec_iso  iso_error_stat  iso_error_sys      tot_cs  \\\n",
      "0       2.601542      53.182741        6.154922       3.823838  781.266941   \n",
      "1       6.281549      71.065645        7.196361       7.481650  808.329253   \n",
      "2       1.175633      65.929889        6.193766       3.295969  809.307577   \n",
      "3       0.954183      57.454778        8.520408       5.882003  820.884372   \n",
      "4       2.682974      53.182741        4.085545       3.033420  781.671767   \n",
      "5       3.790711      71.065645        4.972826       4.310757  805.026806   \n",
      "6       2.053089      65.929889        4.244919       2.575581  808.506396   \n",
      "7       2.029441      57.454778        5.971949       3.565315  814.233457   \n",
      "8       1.458304      53.182741        3.044665       1.616159  775.347585   \n",
      "9       1.562688      71.065645        3.804217       1.860827  810.412851   \n",
      "10      0.496842      65.929889        3.138243       0.912551  814.231446   \n",
      "11      0.343539      57.454778        4.094114       1.483153  815.460333   \n",
      "\n",
      "    err_fit_iso  tot_err_sys  tot_err_stat  tot_err  \n",
      "0           NaN          NaN      7.998498      NaN  \n",
      "1           NaN          NaN      9.140463      NaN  \n",
      "2           NaN          NaN      8.176900      NaN  \n",
      "3           NaN          NaN     10.704503      NaN  \n",
      "4           NaN          NaN      5.124441      NaN  \n",
      "5           NaN          NaN      6.102008      NaN  \n",
      "6           NaN          NaN      5.405521      NaN  \n",
      "7           NaN          NaN      7.332831      NaN  \n",
      "8           NaN          NaN      3.604277      NaN  \n",
      "9           NaN          NaN      4.449652      NaN  \n",
      "10          NaN          NaN      3.800604      NaN  \n",
      "11          NaN          NaN      4.747618      NaN  \n"
     ]
    }
   ],
   "source": [
    "file_cc_cs = \"geo_corr_output_cc_cs_final.txt\"\n",
    "df_cc_cs = pd.read_csv(file_cc_cs,sep='\\t',names=[\"datatype\",\"targettype\",\"RunID\",\"energy\",\"cross_sec_cc\",\"cc_error_stat\",\"cc_error_sys\"])\n",
    "\n",
    "file_iso_cs = \"iso_corr_output_cc_cs_final.txt\"\n",
    "df_iso_cs = pd.read_csv(file_iso_cs,sep='\\t',names=[\"datatype\",\"targettype\",\"RunID\",\"energy\",\"cross_sec_iso\",\"iso_error_stat\",\"iso_error_sys\"])\n",
    "\n",
    "df_merged = pd.merge(df_cc_cs, df_iso_cs, on=[\"datatype\", \"targettype\", \"RunID\", \"energy\"], suffixes=('_1', '_2'))\n",
    "\n",
    "# Calculate total cross section and error\n",
    "df_merged[\"tot_cs\"] = df_merged[\"cross_sec_cc\"] + df_merged[\"cross_sec_iso\"]\n",
    "df_merged[\"err_fit_iso\"] = (df_merged[\"iso_error_sys\"]**2-df_merged[\"cc_error_sys\"]**2-df_merged[\"cc_error_stat\"]**2)**0.5\n",
    "df_merged[\"tot_err_sys\"] = (df_merged[\"err_fit_iso\"]**2+df_merged[\"cc_error_sys\"]**2)**0.5\n",
    "df_merged[\"tot_err_stat\"] = (df_merged[\"cc_error_stat\"]**2+df_merged[\"iso_error_stat\"]**2)**0.5\n",
    "df_merged[\"tot_err\"] = (df_merged[\"tot_err_sys\"]**2 + df_merged[\"tot_err_stat\"]**2)**0.5\n",
    "\n",
    "print(df_merged)\n",
    "\n",
    "selected_cols = [\"datatype\",\"targettype\",\"RunID\",\"energy\",\"tot_cs\",\"tot_err\"]\n",
    "df_merged[selected_cols].to_csv(\"merged_tot_cross_sections.txt\", sep='\\t', index=False, header=False)\n",
    "#df_merged[\"tot_err\"] = np.sqrt(df_merged[\"error_1\"]**2 + df_merged[\"error_2\"]**2)\n",
    "\n",
    "# Select and reorder columns as needed\n",
    "#result_df = df_merged[[\"datatype\", \"targettype\", \"RunID\", \"energy\", \"tot_cs\", \"tot_err\"]]\n",
    "\n",
    "#print(result_df)\n",
    "\n",
    "# Save as tab-separated file without header\n",
    "#result_df.to_csv(\"merged_tot_cross_sections.txt\", sep='\\t', index=False, header=False)"
   ]
  },
  {
   "cell_type": "markdown",
   "id": "f6bd618f",
   "metadata": {},
   "source": [
    "### new part, since I have to propagate stat errors and syst. errors in the correct way, not mixing them..."
   ]
  },
  {
   "cell_type": "code",
   "execution_count": 4,
   "id": "cb9894cc",
   "metadata": {},
   "outputs": [
    {
     "name": "stdout",
     "output_type": "stream",
     "text": [
      "   datatype targettype      RunID  energy  cross_sec_cc  cc_error_stat  \\\n",
      "0       exp       c_54  0179_0001   400.0    728.084200       5.108122   \n",
      "1       exp       c_54  0099_0001   550.0    737.263608       5.635642   \n",
      "2       exp       c_54  0126_0001   650.0    743.377688       5.338442   \n",
      "3       exp       c_54  0166_0001   800.0    763.429594       6.479895   \n",
      "4       exp     c_1086  0181_0001   400.0    728.489026       3.093252   \n",
      "5       exp     c_1086  0101_0001   550.0    733.961162       3.536312   \n",
      "6       exp     c_1086  0127_0001   650.0    742.576507       3.346688   \n",
      "7       exp     c_1086  0168_0001   800.0    756.778679       4.255142   \n",
      "8       exp     c_2198  0183_0001   400.0    722.164844       1.928944   \n",
      "9       exp     c_2198  0103_0001   550.0    739.347207       2.308102   \n",
      "10      exp     c_2198  0130_0001   650.0    748.301557       2.143833   \n",
      "11      exp     c_2198  0170_0001   800.0    758.005555       2.403770   \n",
      "\n",
      "    cc_error_sys  cross_sec_iso  iso_error_stat  iso_error_sys      tot_cs  \\\n",
      "0       2.601542      53.182741        6.154922       3.823838  781.266941   \n",
      "1       6.281549      71.065645        7.196361       7.481650  808.329253   \n",
      "2       1.175633      65.929889        6.193766       3.295969  809.307577   \n",
      "3       0.954183      57.454778        8.520408       5.882003  820.884372   \n",
      "4       2.682974      53.182741        4.085545       3.033420  781.671767   \n",
      "5       3.790711      71.065645        4.972826       4.310757  805.026806   \n",
      "6       2.053089      65.929889        4.244919       2.575581  808.506396   \n",
      "7       2.029441      57.454778        5.971949       3.565315  814.233457   \n",
      "8       1.458304      53.182741        3.044665       1.616159  775.347585   \n",
      "9       1.562688      71.065645        3.804217       1.860827  810.412851   \n",
      "10      0.496842      65.929889        3.138243       0.912551  814.231446   \n",
      "11      0.343539      57.454778        4.094114       1.483153  815.460333   \n",
      "\n",
      "    tot_err_sys  tot_err_stat    tot_err  \n",
      "0      3.823838      6.154922   7.246019  \n",
      "1      7.481650      7.196361  10.380881  \n",
      "2      3.295969      6.193766   7.016134  \n",
      "3      5.882003      8.520408  10.353516  \n",
      "4      3.033420      4.085545   5.088548  \n",
      "5      4.310757      4.972826   6.581157  \n",
      "6      2.575581      4.244919   4.965174  \n",
      "7      3.565315      5.971949   6.955260  \n",
      "8      1.616159      3.044665   3.447022  \n",
      "9      1.860827      3.804217   4.234943  \n",
      "10     0.912551      3.138243   3.268229  \n",
      "11     1.483153      4.094114   4.354482  \n"
     ]
    }
   ],
   "source": [
    "file_cc_cs = \"geo_corr_output_cc_cs_final.txt\"\n",
    "df_cc_cs = pd.read_csv(file_cc_cs,sep='\\t',names=[\"datatype\",\"targettype\",\"RunID\",\"energy\",\"cross_sec_cc\",\"cc_error_stat\",\"cc_error_sys\"])\n",
    "\n",
    "file_iso_cs = \"iso_corr_output_cc_cs_final.txt\"\n",
    "df_iso_cs = pd.read_csv(file_iso_cs,sep='\\t',names=[\"datatype\",\"targettype\",\"RunID\",\"energy\",\"cross_sec_iso\",\"iso_error_stat\",\"iso_error_sys\"])\n",
    "\n",
    "df_merged = pd.merge(df_cc_cs, df_iso_cs, on=[\"datatype\", \"targettype\", \"RunID\", \"energy\"], suffixes=('_1', '_2'))\n",
    "\n",
    "# Calculate total cross section and error\n",
    "df_merged[\"tot_cs\"] = df_merged[\"cross_sec_cc\"] + df_merged[\"cross_sec_iso\"]\n",
    "df_merged[\"tot_err_sys\"] = (df_merged[\"iso_error_sys\"]**2)**0.5\n",
    "df_merged[\"tot_err_stat\"] = (df_merged[\"iso_error_stat\"]**2)**0.5\n",
    "df_merged[\"tot_err\"] = (df_merged[\"tot_err_sys\"]**2 + df_merged[\"tot_err_stat\"]**2)**0.5\n",
    "\n",
    "print(df_merged)\n",
    "\n",
    "selected_cols = [\"datatype\",\"targettype\",\"RunID\",\"energy\",\"tot_cs\",\"tot_err\"]\n",
    "df_merged[selected_cols].to_csv(\"merged_tot_cross_sections.txt\", sep='\\t', index=False, header=False)"
   ]
  },
  {
   "cell_type": "code",
   "execution_count": 5,
   "id": "b1df9f28",
   "metadata": {},
   "outputs": [],
   "source": [
    "selected_cols = [\"datatype\",\"targettype\",\"RunID\",\"energy\",\"tot_cs\",\"tot_err\",\"tot_err_stat\",\"tot_err_sys\"]"
   ]
  },
  {
   "cell_type": "code",
   "execution_count": 6,
   "id": "c192127a",
   "metadata": {},
   "outputs": [],
   "source": [
    "df_merged[selected_cols].to_csv(\"cp_to_tab.txt\", sep='\\t', index=False, header=False)"
   ]
  },
  {
   "cell_type": "code",
   "execution_count": 7,
   "id": "7d1a8ceb",
   "metadata": {},
   "outputs": [],
   "source": [
    "selected_cols = [\"datatype\",\"targettype\",\"RunID\",\"energy\",\"cross_sec_cc\",\"cc_error_stat\",\"cc_error_sys\"]\n",
    "df_merged[selected_cols].to_csv(\"cp_cc_tab.txt\", sep='\\t', index=False, header=False)\n"
   ]
  },
  {
   "cell_type": "code",
   "execution_count": 8,
   "id": "ee19aa61",
   "metadata": {},
   "outputs": [],
   "source": [
    "df_merged[\"err_cc_all\"] =(df_merged[\"cc_error_stat\"]**2 +df_merged[\"cc_error_sys\"]**2)**0.5\n",
    "selected_cols = [\"datatype\",\"targettype\",\"RunID\",\"energy\",\"cross_sec_cc\",\"cc_error_stat\",\"cc_error_sys\",\"err_cc_all\"]\n",
    "df_merged[selected_cols].to_csv(\"cp_to_tab.txt\", sep='\\t', index=False, header=False)"
   ]
  },
  {
   "cell_type": "code",
   "execution_count": null,
   "id": "f68fd71a",
   "metadata": {},
   "outputs": [],
   "source": []
  }
 ],
 "metadata": {
  "kernelspec": {
   "display_name": "Python 3",
   "language": "python",
   "name": "python3"
  },
  "language_info": {
   "codemirror_mode": {
    "name": "ipython",
    "version": 3
   },
   "file_extension": ".py",
   "mimetype": "text/x-python",
   "name": "python",
   "nbconvert_exporter": "python",
   "pygments_lexer": "ipython3",
   "version": "3.6.9"
  }
 },
 "nbformat": 4,
 "nbformat_minor": 5
}
