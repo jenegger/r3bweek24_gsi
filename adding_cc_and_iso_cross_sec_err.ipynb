{
 "cells": [
  {
   "cell_type": "code",
   "execution_count": 16,
   "id": "db73a203",
   "metadata": {},
   "outputs": [],
   "source": [
    "import pandas as pd\n",
    "import numpy as np"
   ]
  },
  {
   "cell_type": "code",
   "execution_count": 2,
   "id": "c5782bba",
   "metadata": {},
   "outputs": [
    {
     "ename": "ValueError",
     "evalue": "You are trying to merge on float64 and object columns. If you wish to proceed you should use pd.concat",
     "output_type": "error",
     "traceback": [
      "\u001b[0;31m---------------------------------------------------------------------------\u001b[0m",
      "\u001b[0;31mValueError\u001b[0m                                Traceback (most recent call last)",
      "\u001b[0;32m<ipython-input-2-2181b26c6935>\u001b[0m in \u001b[0;36m<module>\u001b[0;34m\u001b[0m\n\u001b[1;32m      5\u001b[0m \u001b[0mdf_iso_cs\u001b[0m \u001b[0;34m=\u001b[0m \u001b[0mpd\u001b[0m\u001b[0;34m.\u001b[0m\u001b[0mread_csv\u001b[0m\u001b[0;34m(\u001b[0m\u001b[0mfile_iso_cs\u001b[0m\u001b[0;34m,\u001b[0m\u001b[0msep\u001b[0m\u001b[0;34m=\u001b[0m\u001b[0;34m'\\t'\u001b[0m\u001b[0;34m,\u001b[0m\u001b[0mnames\u001b[0m\u001b[0;34m=\u001b[0m\u001b[0;34m[\u001b[0m\u001b[0;34m\"datatype\"\u001b[0m\u001b[0;34m,\u001b[0m\u001b[0;34m\"targettype\"\u001b[0m\u001b[0;34m,\u001b[0m\u001b[0;34m\"RunID\"\u001b[0m\u001b[0;34m,\u001b[0m\u001b[0;34m\"energy\"\u001b[0m\u001b[0;34m,\u001b[0m\u001b[0;34m\"cross_sec\"\u001b[0m\u001b[0;34m,\u001b[0m\u001b[0;34m\"error\"\u001b[0m\u001b[0;34m]\u001b[0m\u001b[0;34m)\u001b[0m\u001b[0;34m\u001b[0m\u001b[0;34m\u001b[0m\u001b[0m\n\u001b[1;32m      6\u001b[0m \u001b[0;34m\u001b[0m\u001b[0m\n\u001b[0;32m----> 7\u001b[0;31m \u001b[0mdf_merged\u001b[0m \u001b[0;34m=\u001b[0m \u001b[0mpd\u001b[0m\u001b[0;34m.\u001b[0m\u001b[0mmerge\u001b[0m\u001b[0;34m(\u001b[0m\u001b[0mdf_cc_cs\u001b[0m\u001b[0;34m,\u001b[0m \u001b[0mdf_iso_cs\u001b[0m\u001b[0;34m,\u001b[0m \u001b[0mon\u001b[0m\u001b[0;34m=\u001b[0m\u001b[0;34m[\u001b[0m\u001b[0;34m\"datatype\"\u001b[0m\u001b[0;34m,\u001b[0m \u001b[0;34m\"targettype\"\u001b[0m\u001b[0;34m,\u001b[0m \u001b[0;34m\"RunID\"\u001b[0m\u001b[0;34m,\u001b[0m \u001b[0;34m\"energy\"\u001b[0m\u001b[0;34m]\u001b[0m\u001b[0;34m,\u001b[0m \u001b[0msuffixes\u001b[0m\u001b[0;34m=\u001b[0m\u001b[0;34m(\u001b[0m\u001b[0;34m'_1'\u001b[0m\u001b[0;34m,\u001b[0m \u001b[0;34m'_2'\u001b[0m\u001b[0;34m)\u001b[0m\u001b[0;34m)\u001b[0m\u001b[0;34m\u001b[0m\u001b[0;34m\u001b[0m\u001b[0m\n\u001b[0m\u001b[1;32m      8\u001b[0m \u001b[0;34m\u001b[0m\u001b[0m\n\u001b[1;32m      9\u001b[0m \u001b[0;31m# Calculate total cross section and error\u001b[0m\u001b[0;34m\u001b[0m\u001b[0;34m\u001b[0m\u001b[0;34m\u001b[0m\u001b[0m\n",
      "\u001b[0;32m~/jupy/jup_notebook/lib/python3.6/site-packages/pandas/core/reshape/merge.py\u001b[0m in \u001b[0;36mmerge\u001b[0;34m(left, right, how, on, left_on, right_on, left_index, right_index, sort, suffixes, copy, indicator, validate)\u001b[0m\n\u001b[1;32m     85\u001b[0m         \u001b[0mcopy\u001b[0m\u001b[0;34m=\u001b[0m\u001b[0mcopy\u001b[0m\u001b[0;34m,\u001b[0m\u001b[0;34m\u001b[0m\u001b[0;34m\u001b[0m\u001b[0m\n\u001b[1;32m     86\u001b[0m         \u001b[0mindicator\u001b[0m\u001b[0;34m=\u001b[0m\u001b[0mindicator\u001b[0m\u001b[0;34m,\u001b[0m\u001b[0;34m\u001b[0m\u001b[0;34m\u001b[0m\u001b[0m\n\u001b[0;32m---> 87\u001b[0;31m         \u001b[0mvalidate\u001b[0m\u001b[0;34m=\u001b[0m\u001b[0mvalidate\u001b[0m\u001b[0;34m,\u001b[0m\u001b[0;34m\u001b[0m\u001b[0;34m\u001b[0m\u001b[0m\n\u001b[0m\u001b[1;32m     88\u001b[0m     )\n\u001b[1;32m     89\u001b[0m     \u001b[0;32mreturn\u001b[0m \u001b[0mop\u001b[0m\u001b[0;34m.\u001b[0m\u001b[0mget_result\u001b[0m\u001b[0;34m(\u001b[0m\u001b[0;34m)\u001b[0m\u001b[0;34m\u001b[0m\u001b[0;34m\u001b[0m\u001b[0m\n",
      "\u001b[0;32m~/jupy/jup_notebook/lib/python3.6/site-packages/pandas/core/reshape/merge.py\u001b[0m in \u001b[0;36m__init__\u001b[0;34m(self, left, right, how, on, left_on, right_on, axis, left_index, right_index, sort, suffixes, copy, indicator, validate)\u001b[0m\n\u001b[1;32m    654\u001b[0m         \u001b[0;31m# validate the merge keys dtypes. We may need to coerce\u001b[0m\u001b[0;34m\u001b[0m\u001b[0;34m\u001b[0m\u001b[0;34m\u001b[0m\u001b[0m\n\u001b[1;32m    655\u001b[0m         \u001b[0;31m# to avoid incompatible dtypes\u001b[0m\u001b[0;34m\u001b[0m\u001b[0;34m\u001b[0m\u001b[0;34m\u001b[0m\u001b[0m\n\u001b[0;32m--> 656\u001b[0;31m         \u001b[0mself\u001b[0m\u001b[0;34m.\u001b[0m\u001b[0m_maybe_coerce_merge_keys\u001b[0m\u001b[0;34m(\u001b[0m\u001b[0;34m)\u001b[0m\u001b[0;34m\u001b[0m\u001b[0;34m\u001b[0m\u001b[0m\n\u001b[0m\u001b[1;32m    657\u001b[0m \u001b[0;34m\u001b[0m\u001b[0m\n\u001b[1;32m    658\u001b[0m         \u001b[0;31m# If argument passed to validate,\u001b[0m\u001b[0;34m\u001b[0m\u001b[0;34m\u001b[0m\u001b[0;34m\u001b[0m\u001b[0m\n",
      "\u001b[0;32m~/jupy/jup_notebook/lib/python3.6/site-packages/pandas/core/reshape/merge.py\u001b[0m in \u001b[0;36m_maybe_coerce_merge_keys\u001b[0;34m(self)\u001b[0m\n\u001b[1;32m   1163\u001b[0m                     \u001b[0minferred_right\u001b[0m \u001b[0;32min\u001b[0m \u001b[0mstring_types\u001b[0m \u001b[0;32mand\u001b[0m \u001b[0minferred_left\u001b[0m \u001b[0;32mnot\u001b[0m \u001b[0;32min\u001b[0m \u001b[0mstring_types\u001b[0m\u001b[0;34m\u001b[0m\u001b[0;34m\u001b[0m\u001b[0m\n\u001b[1;32m   1164\u001b[0m                 ):\n\u001b[0;32m-> 1165\u001b[0;31m                     \u001b[0;32mraise\u001b[0m \u001b[0mValueError\u001b[0m\u001b[0;34m(\u001b[0m\u001b[0mmsg\u001b[0m\u001b[0;34m)\u001b[0m\u001b[0;34m\u001b[0m\u001b[0;34m\u001b[0m\u001b[0m\n\u001b[0m\u001b[1;32m   1166\u001b[0m \u001b[0;34m\u001b[0m\u001b[0m\n\u001b[1;32m   1167\u001b[0m             \u001b[0;31m# datetimelikes must match exactly\u001b[0m\u001b[0;34m\u001b[0m\u001b[0;34m\u001b[0m\u001b[0;34m\u001b[0m\u001b[0m\n",
      "\u001b[0;31mValueError\u001b[0m: You are trying to merge on float64 and object columns. If you wish to proceed you should use pd.concat"
     ]
    }
   ],
   "source": [
    "file_cc_cs = \"geo_corr_output_cc_cs_final.txt\"\n",
    "df_cc_cs = pd.read_csv(file_cc_cs,sep='\\t',names=[\"datatype\",\"targettype\",\"RunID\",\"energy\",\"cross_sec\",\"error\"])\n",
    "\n",
    "file_iso_cs = \"iso_corr_output_cc_cs_final.txt\"\n",
    "df_iso_cs = pd.read_csv(file_iso_cs,sep='\\t',names=[\"datatype\",\"targettype\",\"RunID\",\"energy\",\"cross_sec\",\"error\"])\n",
    "\n",
    "df_merged = pd.merge(df_cc_cs, df_iso_cs, on=[\"datatype\", \"targettype\", \"RunID\", \"energy\"], suffixes=('_1', '_2'))\n",
    "\n",
    "# Calculate total cross section and error\n",
    "df_merged[\"tot_cs\"] = df_merged[\"cross_sec_1\"] + df_merged[\"cross_sec_2\"]\n",
    "df_merged[\"tot_err\"] = np.sqrt(df_merged[\"error_1\"]**2 + df_merged[\"error_2\"]**2)\n",
    "\n",
    "# Select and reorder columns as needed\n",
    "result_df = df_merged[[\"datatype\", \"targettype\", \"RunID\", \"energy\", \"tot_cs\", \"tot_err\"]]\n",
    "\n",
    "print(result_df)\n",
    "\n",
    "# Save as tab-separated file without header\n",
    "result_df.to_csv(\"merged_tot_cross_sections.txt\", sep='\\t', index=False, header=False)\n",
    "\n",
    "\n",
    "\n"
   ]
  },
  {
   "cell_type": "code",
   "execution_count": 18,
   "id": "83933568",
   "metadata": {},
   "outputs": [
    {
     "name": "stdout",
     "output_type": "stream",
     "text": [
      "   datatype targettype      RunID  energy  cross_sec_cc  cc_error_stat  \\\n",
      "0       exp       c_54  0179_0001   400.0    728.084200       5.108122   \n",
      "1       exp       c_54  0099_0001   550.0    737.263608       5.635642   \n",
      "2       exp       c_54  0126_0001   650.0    743.377688       5.338442   \n",
      "3       exp       c_54  0166_0001   800.0    763.429594       6.479895   \n",
      "4       exp     c_1086  0181_0001   400.0    728.489026       3.093252   \n",
      "5       exp     c_1086  0101_0001   550.0    733.961162       3.536312   \n",
      "6       exp     c_1086  0127_0001   650.0    742.576507       3.346688   \n",
      "7       exp     c_1086  0168_0001   800.0    756.778679       4.255142   \n",
      "8       exp     c_2198  0183_0001   400.0    722.164844       1.928944   \n",
      "9       exp     c_2198  0103_0001   550.0    739.347207       2.308102   \n",
      "10      exp     c_2198  0130_0001   650.0    748.301557       2.143833   \n",
      "11      exp     c_2198  0170_0001   800.0    758.005555       2.403770   \n",
      "\n",
      "    cc_error_sys  cross_sec_iso  iso_error_stat  iso_error_sys      tot_cs  \\\n",
      "0       2.601542      70.813377        2.709460       5.732445  798.897576   \n",
      "1       6.281549      69.731190        3.100210       8.439095  806.994798   \n",
      "2       1.175633      59.452853        2.806412       5.466359  802.830541   \n",
      "3       0.954183      77.443710        3.464456       6.549772  840.873304   \n",
      "4       2.682974      68.939587        1.543652       4.094699  797.428613   \n",
      "5       3.790711      72.962136        1.854130       5.184109  806.923298   \n",
      "6       2.053089      69.239323        1.687123       3.926257  811.815829   \n",
      "7       2.029441      66.862865        2.094941       4.714326  823.641544   \n",
      "8       1.458304      59.427215        0.877667       2.418155  781.592059   \n",
      "9       1.562688      70.165782        1.132133       2.787351  809.512988   \n",
      "10      0.496842      62.602603        0.994535       2.200652  810.904159   \n",
      "11      0.343539      61.619293        1.127415       2.428194  819.624848   \n",
      "\n",
      "    err_fit_iso  tot_err_sys  tot_err_stat   tot_err  \n",
      "0      0.000083     2.601542      5.782221  6.340513  \n",
      "1      0.000085     6.281549      6.432089  8.990530  \n",
      "2      0.000069     1.175633      6.031162  6.144675  \n",
      "3      0.000088     0.954183      7.347891  7.409586  \n",
      "4      0.000079     2.682974      3.457032  4.376005  \n",
      "5      0.000072     3.790711      3.992906  5.505705  \n",
      "6      0.000071     2.053089      3.747893  4.273392  \n",
      "7      0.000089     2.029441      4.742891  5.158841  \n",
      "8      0.000072     1.458304      2.119227  2.572503  \n",
      "9      0.000073     1.562688      2.570809  3.008497  \n",
      "10     0.000072     0.496842      2.363286  2.414948  \n",
      "11     0.000088     0.343539      2.655028  2.677161  \n"
     ]
    }
   ],
   "source": [
    "file_cc_cs = \"geo_corr_output_cc_cs_final.txt\"\n",
    "df_cc_cs = pd.read_csv(file_cc_cs,sep='\\t',names=[\"datatype\",\"targettype\",\"RunID\",\"energy\",\"cross_sec_cc\",\"cc_error_stat\",\"cc_error_sys\"])\n",
    "\n",
    "file_iso_cs = \"iso_corr_output_cc_cs_final.txt\"\n",
    "df_iso_cs = pd.read_csv(file_iso_cs,sep='\\t',names=[\"datatype\",\"targettype\",\"RunID\",\"energy\",\"cross_sec_iso\",\"iso_error_stat\",\"iso_error_sys\"])\n",
    "\n",
    "df_merged = pd.merge(df_cc_cs, df_iso_cs, on=[\"datatype\", \"targettype\", \"RunID\", \"energy\"], suffixes=('_1', '_2'))\n",
    "\n",
    "# Calculate total cross section and error\n",
    "df_merged[\"tot_cs\"] = df_merged[\"cross_sec_cc\"] + df_merged[\"cross_sec_iso\"]\n",
    "df_merged[\"err_fit_iso\"] = (df_merged[\"iso_error_sys\"]**2-df_merged[\"cc_error_sys\"]**2-df_merged[\"cc_error_stat\"]**2)**0.5\n",
    "df_merged[\"tot_err_sys\"] = (df_merged[\"err_fit_iso\"]**2+df_merged[\"cc_error_sys\"]**2)**0.5\n",
    "df_merged[\"tot_err_stat\"] = (df_merged[\"cc_error_stat\"]**2+df_merged[\"iso_error_stat\"]**2)**0.5\n",
    "df_merged[\"tot_err\"] = (df_merged[\"tot_err_sys\"]**2 + df_merged[\"tot_err_stat\"]**2)**0.5\n",
    "\n",
    "print(df_merged)\n",
    "\n",
    "selected_cols = [\"datatype\",\"targettype\",\"RunID\",\"energy\",\"tot_cs\",\"tot_err\"]\n",
    "df_merged[selected_cols].to_csv(\"merged_tot_cross_sections.txt\", sep='\\t', index=False, header=False)\n",
    "#df_merged[\"tot_err\"] = np.sqrt(df_merged[\"error_1\"]**2 + df_merged[\"error_2\"]**2)\n",
    "\n",
    "# Select and reorder columns as needed\n",
    "#result_df = df_merged[[\"datatype\", \"targettype\", \"RunID\", \"energy\", \"tot_cs\", \"tot_err\"]]\n",
    "\n",
    "#print(result_df)\n",
    "\n",
    "# Save as tab-separated file without header\n",
    "#result_df.to_csv(\"merged_tot_cross_sections.txt\", sep='\\t', index=False, header=False)"
   ]
  },
  {
   "cell_type": "code",
   "execution_count": null,
   "id": "e911ab68",
   "metadata": {},
   "outputs": [],
   "source": []
  }
 ],
 "metadata": {
  "kernelspec": {
   "display_name": "Python 3",
   "language": "python",
   "name": "python3"
  },
  "language_info": {
   "codemirror_mode": {
    "name": "ipython",
    "version": 3
   },
   "file_extension": ".py",
   "mimetype": "text/x-python",
   "name": "python",
   "nbconvert_exporter": "python",
   "pygments_lexer": "ipython3",
   "version": "3.6.9"
  }
 },
 "nbformat": 4,
 "nbformat_minor": 5
}
