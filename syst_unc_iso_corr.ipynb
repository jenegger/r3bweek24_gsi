{
 "cells": [
  {
   "cell_type": "code",
   "execution_count": 1,
   "id": "fe3f4488",
   "metadata": {},
   "outputs": [],
   "source": [
    "#!/bin/python3\n",
    "import matplotlib.pyplot as plt\n",
    "import pandas as pd\n",
    "import math\n",
    "import numpy as np\n",
    "import copy"
   ]
  },
  {
   "cell_type": "code",
   "execution_count": null,
   "id": "4d2f6ef7",
   "metadata": {},
   "outputs": [],
   "source": [
    "cols = [\"datatype\", \"targettype\", \"runID\", \"energy\"]\n",
    "\n",
    "    \n",
    "    df = pd.read_csv(filename,sep='\\t',names=[\"datatype\",\"targettype\",\"RunID\",\"energy\",\"d_reacted_carbon\",\"all_carbon\"])\n"
   ]
  }
 ],
 "metadata": {
  "kernelspec": {
   "display_name": "Python 3",
   "language": "python",
   "name": "python3"
  },
  "language_info": {
   "codemirror_mode": {
    "name": "ipython",
    "version": 3
   },
   "file_extension": ".py",
   "mimetype": "text/x-python",
   "name": "python",
   "nbconvert_exporter": "python",
   "pygments_lexer": "ipython3",
   "version": "3.6.9"
  }
 },
 "nbformat": 4,
 "nbformat_minor": 5
}
