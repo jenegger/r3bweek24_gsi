{
 "cells": [
  {
   "cell_type": "code",
   "execution_count": 1,
   "id": "b0575ca1",
   "metadata": {},
   "outputs": [],
   "source": [
    "#!/bin/python3\n",
    "import matplotlib.pyplot as plt\n",
    "import pandas as pd\n",
    "import math\n",
    "import numpy as np\n",
    "import copy"
   ]
  },
  {
   "cell_type": "code",
   "execution_count": 2,
   "id": "514ec957",
   "metadata": {},
   "outputs": [],
   "source": [
    "##easy straight forward function to calculate charge changing cross section without any corrections\n",
    "def cccs(filename,target_thickness):\n",
    "    df = pd.read_csv(filename,sep='\\t',names=[\"datatype\",\"targettype\",\"RunID\",\"energy\",\"incoming ions\",\"survived_ions\"])\n",
    "    df[\"d_survived\"] = 1-df[\"survived_ions\"]/df[\"incoming ions\"]\n",
    "    new_density = 1.851\n",
    "    T_2198 = (new_density)*(2.1928)*(6.02214076)*(pow(10,23))/(12.011);\n",
    "    T_1086 = (new_density)*(1.0793)*(6.02214076)*(pow(10,23))/(12.011);\n",
    "    T_54 = (new_density)*(0.5451)*(6.02214076)*(pow(10,23))/(12.011);\n",
    "    factor_2198 = (1./T_2198)*(pow(10,27))\n",
    "    factor_1086 = (1./T_1086)*(pow(10,27))\n",
    "    factor_54 = (1./T_54)*(pow(10,27))\n",
    "    cc_2198_val = []\n",
    "    cc_1086_val = []\n",
    "    cc_54_val = []\n",
    "    energy_vals = [\"400\",\"550\",\"650\",\"800\"]\n",
    "    for ene in energy_vals:\n",
    "        dz_2198 = (1-float(df.loc[(df[\"targettype\"] == \"c_2198\") & (df[\"energy\"] == float(ene))]['d_survived']))/(1-float(df.loc[(df[\"targettype\"] == \"empty\") & (df[\"energy\"] == float(ene))]['d_survived']))\n",
    "        dz_1086 = (1-float(df.loc[(df[\"targettype\"] == \"c_1086\") & (df[\"energy\"] == float(ene))]['d_survived']))/(1-float(df.loc[(df[\"targettype\"] == \"empty\") & (df[\"energy\"] == float(ene))]['d_survived']))\n",
    "        dz_54 = (1-float(df.loc[(df[\"targettype\"] == \"c_54\") & (df[\"energy\"] == float(ene))]['d_survived']))/(1-float(df.loc[(df[\"targettype\"] == \"empty\") & (df[\"energy\"] == float(ene))]['d_survived']))\n",
    "\n",
    "        cc_2198 = factor_2198*(-math.log(dz_2198))\n",
    "        cc_1086 = factor_1086*(-math.log(dz_1086))\n",
    "        cc_54 = factor_54*(-math.log(dz_54))\n",
    "        cc_2198_val.append(cc_2198)\n",
    "        cc_1086_val.append(cc_1086)\n",
    "        cc_54_val.append(cc_54)\n",
    "        \n",
    "    if (target_thickness == \"thin\"):\n",
    "        return cc_54_val\n",
    "    if (target_thickness == \"medium\"):\n",
    "        return cc_1086_val\n",
    "    if (target_thickness == \"thick\"):\n",
    "        return cc_2198_val\n",
    "    \n",
    "def cccs_loop(filename,target_thickness):\n",
    "    column_names = [\"datatype\",\"targettype\",\"RunID\",\"energy\",\"incoming ions\"]\n",
    "    for i in range(40):\n",
    "        column_names.append(f\"surv_ion_{i}\")\n",
    "    print(column_names)\n",
    "    df = pd.read_csv(filename,sep='\\t',names=column_names)\n",
    "    for i in range(40):\n",
    "        df[f\"d_survived_{i}\"] = 1-df[f\"surv_ion_{i}\"]/df[\"incoming ions\"]\n",
    "    new_density = 1.851\n",
    "    T_2198 = (new_density)*(2.1928)*(6.02214076)*(pow(10,23))/(12.011);\n",
    "    T_1086 = (new_density)*(1.0793)*(6.02214076)*(pow(10,23))/(12.011);\n",
    "    T_54 = (new_density)*(0.5451)*(6.02214076)*(pow(10,23))/(12.011);\n",
    "    factor_2198 = (1./T_2198)*(pow(10,27))\n",
    "    factor_1086 = (1./T_1086)*(pow(10,27))\n",
    "    factor_54 = (1./T_54)*(pow(10,27))\n",
    "    cc_2198_val = []\n",
    "    cc_1086_val = []\n",
    "    cc_54_val = []\n",
    "    energy_vals = [\"400\",\"550\",\"650\",\"800\"]\n",
    "    for ene in energy_vals:\n",
    "        loop_2198 = []\n",
    "        loop_1086 = []\n",
    "        loop_54 = []\n",
    "        for i in range(40):\n",
    "            dz_2198 = (1-float(df.loc[(df[\"targettype\"] == \"c_2198\") & (df[\"energy\"] == float(ene))][f'd_survived_{i}']))/(1-float(df.loc[(df[\"targettype\"] == \"empty\") & (df[\"energy\"] == float(ene))][f'd_survived_{i}']))\n",
    "            dz_1086 = (1-float(df.loc[(df[\"targettype\"] == \"c_1086\") & (df[\"energy\"] == float(ene))][f'd_survived_{i}']))/(1-float(df.loc[(df[\"targettype\"] == \"empty\") & (df[\"energy\"] == float(ene))][f'd_survived_{i}']))\n",
    "            dz_54 = (1-float(df.loc[(df[\"targettype\"] == \"c_54\") & (df[\"energy\"] == float(ene))][f'd_survived_{i}']))/(1-float(df.loc[(df[\"targettype\"] == \"empty\") & (df[\"energy\"] == float(ene))][f'd_survived_{i}']))\n",
    "            cc_2198 = factor_2198*(-math.log(dz_2198))\n",
    "            cc_1086 = factor_1086*(-math.log(dz_1086))\n",
    "            cc_54 = factor_54*(-math.log(dz_54))\n",
    "            loop_2198.append(cc_2198)\n",
    "            loop_1086.append(cc_1086)\n",
    "            loop_54.append(cc_54)\n",
    "        cc_2198_val.append(loop_2198)\n",
    "        cc_1086_val.append(loop_1086)\n",
    "        cc_54_val.append(loop_54)\n",
    "        \n",
    "    if (target_thickness == \"thin\"):\n",
    "        return cc_54_val\n",
    "    if (target_thickness == \"medium\"):\n",
    "        return cc_1086_val\n",
    "    if (target_thickness == \"thick\"):\n",
    "        return cc_2198_val        "
   ]
  },
  {
   "cell_type": "code",
   "execution_count": 11,
   "id": "f2f5150c",
   "metadata": {},
   "outputs": [
    {
     "name": "stdout",
     "output_type": "stream",
     "text": [
      "['datatype', 'targettype', 'RunID', 'energy', 'incoming ions', 'surv_ion_0', 'surv_ion_1', 'surv_ion_2', 'surv_ion_3', 'surv_ion_4', 'surv_ion_5', 'surv_ion_6', 'surv_ion_7', 'surv_ion_8', 'surv_ion_9', 'surv_ion_10', 'surv_ion_11', 'surv_ion_12', 'surv_ion_13', 'surv_ion_14', 'surv_ion_15', 'surv_ion_16', 'surv_ion_17', 'surv_ion_18', 'surv_ion_19', 'surv_ion_20', 'surv_ion_21', 'surv_ion_22', 'surv_ion_23', 'surv_ion_24', 'surv_ion_25', 'surv_ion_26', 'surv_ion_27', 'surv_ion_28', 'surv_ion_29', 'surv_ion_30', 'surv_ion_31', 'surv_ion_32', 'surv_ion_33', 'surv_ion_34', 'surv_ion_35', 'surv_ion_36', 'surv_ion_37', 'surv_ion_38', 'surv_ion_39']\n",
      "[737.174483047875, 748.1748819584224, 750.3901723987364, 755.6683623477053]\n",
      "[713.4507634346935, 701.7383660496216, 731.7273493247687, 724.4982538990276, 730.6646667351307, 744.4321463069067, 726.3087194529827, 737.5912258391197, 734.0012333073607, 736.5053376374566, 739.8509553945579, 737.3029096485864, 740.392380375624, 735.4765613790223, 737.0725943533663, 733.4287790457608, 737.0419262888445, 737.8337213816765, 736.6788522539066, 736.3920295845188, 737.0595077016278, 735.3180941423881, 736.3272872310353, 735.3009714000475, 735.5110378473369, 735.0797827297906, 735.150046409457, 735.1150839263864, 734.8479351278969, 734.9469106928938, 734.8161975269238, 734.4981224048237, 734.4308011963136, 734.174775607226, 734.1320933253617, 733.9494879497005, 733.6900134014274, 733.6243744225034, 733.5151479687221, 733.3448155165121]\n"
     ]
    }
   ],
   "source": [
    "file_gauss2d_border_3_5_sigma = 'comb_gauss2d_border.txt'\n",
    "file_gauss2d_border_loop = 'comb_loop_gauss2d_border.txt'\n",
    "test = cccs(file_gauss2d_border_3_5_sigma,\"thin\")\n",
    "test2 = cccs_loop(file_gauss2d_border_loop,\"thick\")\n",
    "print(test)\n",
    "print (test2[0])\n",
    "bins = np.arange(1, 5, 0.1).tolist()\n",
    "\n",
    "#file_gauss2d_no_border_3_5_sigma = \n"
   ]
  },
  {
   "cell_type": "code",
   "execution_count": 15,
   "id": "21e3acdd",
   "metadata": {},
   "outputs": [
    {
     "data": {
      "text/plain": [
       "<matplotlib.collections.PathCollection at 0x7f6ae5493978>"
      ]
     },
     "execution_count": 15,
     "metadata": {},
     "output_type": "execute_result"
    },
    {
     "data": {
      "image/png": "[encoded data removed]",
      "text/plain": [
       "<Figure size 432x288 with 1 Axes>"
      ]
     },
     "metadata": {
      "needs_background": "light"
     },
     "output_type": "display_data"
    }
   ],
   "source": [
    "fig, ax = plt.subplots()\n",
    "ax.scatter(bins,test2[1],label=\"charge_changing 2198\",color='red',marker=\"o\")"
   ]
  }
 ],
 "metadata": {
  "kernelspec": {
   "display_name": "Python 3",
   "language": "python",
   "name": "python3"
  },
  "language_info": {
   "codemirror_mode": {
    "name": "ipython",
    "version": 3
   },
   "file_extension": ".py",
   "mimetype": "text/x-python",
   "name": "python",
   "nbconvert_exporter": "python",
   "pygments_lexer": "ipython3",
   "version": "3.6.9"
  }
 },
 "nbformat": 4,
 "nbformat_minor": 5
}
