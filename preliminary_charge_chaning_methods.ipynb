{
 "cells": [
  {
   "cell_type": "code",
   "execution_count": 1,
   "id": "b0575ca1",
   "metadata": {},
   "outputs": [],
   "source": [
    "#!/bin/python3\n",
    "import matplotlib.pyplot as plt\n",
    "import pandas as pd\n",
    "import math\n",
    "import numpy as np\n",
    "import copy"
   ]
  },
  {
   "cell_type": "code",
   "execution_count": 2,
   "id": "514ec957",
   "metadata": {},
   "outputs": [],
   "source": [
    "##easy straight forward function to calculate charge changing cross section without any corrections\n",
    "def cccs(filename,target_thickness):\n",
    "    df = pd.read_csv(filename,sep='\\t',names=[\"datatype\",\"targettype\",\"RunID\",\"energy\",\"incoming ions\",\"survived_ions\"])\n",
    "    df[\"d_survived\"] = 1-df[\"survived_ions\"]/df[\"incoming ions\"]\n",
    "    new_density = 1.851\n",
    "    T_2198 = (new_density)*(2.1928)*(6.02214076)*(pow(10,23))/(12.011);\n",
    "    T_1086 = (new_density)*(1.0793)*(6.02214076)*(pow(10,23))/(12.011);\n",
    "    T_54 = (new_density)*(0.5451)*(6.02214076)*(pow(10,23))/(12.011);\n",
    "    factor_2198 = (1./T_2198)*(pow(10,27))\n",
    "    factor_1086 = (1./T_1086)*(pow(10,27))\n",
    "    factor_54 = (1./T_54)*(pow(10,27))\n",
    "    cc_2198_val = []\n",
    "    cc_1086_val = []\n",
    "    cc_54_val = []\n",
    "    energy_vals = [\"400\",\"550\",\"650\",\"800\"]\n",
    "    for ene in energy_vals:\n",
    "        dz_2198 = (1-float(df.loc[(df[\"targettype\"] == \"c_2198\") & (df[\"energy\"] == float(ene))]['d_survived']))/(1-float(df.loc[(df[\"targettype\"] == \"empty\") & (df[\"energy\"] == float(ene))]['d_survived']))\n",
    "        dz_1086 = (1-float(df.loc[(df[\"targettype\"] == \"c_1086\") & (df[\"energy\"] == float(ene))]['d_survived']))/(1-float(df.loc[(df[\"targettype\"] == \"empty\") & (df[\"energy\"] == float(ene))]['d_survived']))\n",
    "        dz_54 = (1-float(df.loc[(df[\"targettype\"] == \"c_54\") & (df[\"energy\"] == float(ene))]['d_survived']))/(1-float(df.loc[(df[\"targettype\"] == \"empty\") & (df[\"energy\"] == float(ene))]['d_survived']))\n",
    "\n",
    "        cc_2198 = factor_2198*(-math.log(dz_2198))\n",
    "        cc_1086 = factor_1086*(-math.log(dz_1086))\n",
    "        cc_54 = factor_54*(-math.log(dz_54))\n",
    "        cc_2198_val.append(cc_2198)\n",
    "        cc_1086_val.append(cc_1086)\n",
    "        cc_54_val.append(cc_54)\n",
    "        \n",
    "    if (target_thickness == \"thin\"):\n",
    "        return cc_54_val\n",
    "    if (target_thickness == \"medium\"):\n",
    "        return cc_1086_val\n",
    "    if (target_thickness == \"thick\"):\n",
    "        return cc_2198_val\n",
    "    \n",
    "def cccs_loop(filename,target_thickness):\n",
    "    column_names = [\"datatype\",\"targettype\",\"RunID\",\"energy\",\"incoming ions\"]\n",
    "    for i in range(40):\n",
    "        column_names.append(\"surv_ion_{i}\")\n",
    "    df = pd.read_csv(filename,sep='\\t',names=column_names)\n",
    "    for i in range(40):\n",
    "        df[\"d_survived_{i}\"] = 1-df[\"surv_ion_{i}\"]/df[\"incoming ions\"]\n",
    "    new_density = 1.851\n",
    "    T_2198 = (new_density)*(2.1928)*(6.02214076)*(pow(10,23))/(12.011);\n",
    "    T_1086 = (new_density)*(1.0793)*(6.02214076)*(pow(10,23))/(12.011);\n",
    "    T_54 = (new_density)*(0.5451)*(6.02214076)*(pow(10,23))/(12.011);\n",
    "    factor_2198 = (1./T_2198)*(pow(10,27))\n",
    "    factor_1086 = (1./T_1086)*(pow(10,27))\n",
    "    factor_54 = (1./T_54)*(pow(10,27))\n",
    "    cc_2198_val = []\n",
    "    cc_1086_val = []\n",
    "    cc_54_val = []\n",
    "    energy_vals = [\"400\",\"550\",\"650\",\"800\"]\n",
    "    for ene in energy_vals:\n",
    "        dz_2198 = (1-float(df.loc[(df[\"targettype\"] == \"c_2198\") & (df[\"energy\"] == float(ene))]['d_survived']))/(1-float(df.loc[(df[\"targettype\"] == \"empty\") & (df[\"energy\"] == float(ene))]['d_survived']))\n",
    "        dz_1086 = (1-float(df.loc[(df[\"targettype\"] == \"c_1086\") & (df[\"energy\"] == float(ene))]['d_survived']))/(1-float(df.loc[(df[\"targettype\"] == \"empty\") & (df[\"energy\"] == float(ene))]['d_survived']))\n",
    "        dz_54 = (1-float(df.loc[(df[\"targettype\"] == \"c_54\") & (df[\"energy\"] == float(ene))]['d_survived']))/(1-float(df.loc[(df[\"targettype\"] == \"empty\") & (df[\"energy\"] == float(ene))]['d_survived']))\n",
    "\n",
    "        cc_2198 = factor_2198*(-math.log(dz_2198))\n",
    "        cc_1086 = factor_1086*(-math.log(dz_1086))\n",
    "        cc_54 = factor_54*(-math.log(dz_54))\n",
    "        cc_2198_val.append(cc_2198)\n",
    "        cc_1086_val.append(cc_1086)\n",
    "        cc_54_val.append(cc_54)\n",
    "        \n",
    "    if (target_thickness == \"thin\"):\n",
    "        return cc_54_val\n",
    "    if (target_thickness == \"medium\"):\n",
    "        return cc_1086_val\n",
    "    if (target_thickness == \"thick\"):\n",
    "        return cc_2198_val        "
   ]
  },
  {
   "cell_type": "code",
   "execution_count": 3,
   "id": "f2f5150c",
   "metadata": {},
   "outputs": [
    {
     "ename": "SyntaxError",
     "evalue": "invalid syntax (<ipython-input-3-0e91127cb5ed>, line 1)",
     "output_type": "error",
     "traceback": [
      "\u001b[0;36m  File \u001b[0;32m\"<ipython-input-3-0e91127cb5ed>\"\u001b[0;36m, line \u001b[0;32m1\u001b[0m\n\u001b[0;31m    file_gauss2d_border_3_5_sigma =\u001b[0m\n\u001b[0m                                    ^\u001b[0m\n\u001b[0;31mSyntaxError\u001b[0m\u001b[0;31m:\u001b[0m invalid syntax\n"
     ]
    }
   ],
   "source": [
    "file_gauss2d_border_3_5_sigma = \n",
    "file_gauss2d_no_border_3_5_sigma = \n"
   ]
  }
 ],
 "metadata": {
  "kernelspec": {
   "display_name": "Python 3",
   "language": "python",
   "name": "python3"
  },
  "language_info": {
   "codemirror_mode": {
    "name": "ipython",
    "version": 3
   },
   "file_extension": ".py",
   "mimetype": "text/x-python",
   "name": "python",
   "nbconvert_exporter": "python",
   "pygments_lexer": "ipython3",
   "version": "3.6.9"
  }
 },
 "nbformat": 4,
 "nbformat_minor": 5
}
