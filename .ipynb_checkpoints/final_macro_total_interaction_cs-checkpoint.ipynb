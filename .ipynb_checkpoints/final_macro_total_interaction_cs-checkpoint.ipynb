{
 "cells": [
  {
   "cell_type": "code",
   "execution_count": 1,
   "id": "6662e415-fe74-4a95-bec3-f156f805092a",
   "metadata": {},
   "outputs": [],
   "source": [
    "#!/bin/python3\n",
    "import matplotlib.pyplot as plt\n",
    "import pandas as pd\n",
    "import math\n",
    "import numpy as np\n",
    "import copy"
   ]
  },
  {
   "cell_type": "code",
   "execution_count": 2,
   "id": "a7734efa-4a38-47d1-b5bc-d69649995721",
   "metadata": {},
   "outputs": [],
   "source": [
    "def stat_errors_total(filename_cc,filename_neutron,geo_corr_file,target_thickness):\n",
    "    targettype = None\n",
    "    factor = None\n",
    "    n_t = None\n",
    "    delta_n_t = None\n",
    "    new_density = 1.851\n",
    "    T_2198 = (new_density)*(2.1928)*(6.02214076)*(pow(10,23))/(12.011);\n",
    "    T_1086 = (new_density)*(1.0793)*(6.02214076)*(pow(10,23))/(12.011);\n",
    "    T_54 = (new_density)*(0.5451)*(6.02214076)*(pow(10,23))/(12.011);\n",
    "    if (target_thickness == \"thin\"):\n",
    "        targettype = \"c_54\"\n",
    "        factor = (1./T_54)*(pow(10,27))\n",
    "        n_t = T_54\n",
    "        delta_n_t = 0.000648\n",
    "    if (target_thickness == \"medium\"):\n",
    "        targettype = \"c_1086\"\n",
    "        n_t = T_1086\n",
    "        delta_n_t = 0.002620\n",
    "        factor = (1./T_1086)*(pow(10,27))\n",
    "    if (target_thickness == \"thick\"):\n",
    "        targettype = \"c_2198\"\n",
    "        n_t = T_2198\n",
    "        delta_n_t = 0.000322\n",
    "        factor = (1./T_2198)*(pow(10,27))\n",
    "        \n",
    "    ##three dataframes\n",
    "    ##data frame for charge changing\n",
    "    df_cc = pd.read_csv(filename_cc,sep='\\t',names=[\"datatype\",\"targettype\",\"RunID\",\"energy\",\"incoming ions\",\"survived_ions\"])\n",
    "    df_cc[\"d_carbon_survived\"] = df_cc[\"survived_ions\"]/df_cc[\"incoming ions\"]\n",
    "    ##data frame for geo correction\n",
    "    df_geo = pd.read_csv(geo_corr_file,sep='\\t',names=[\"datatype\",\"targettype\",\"RunID\",\"energy\",\"geo_corr_factor\"])\n",
    "    ### this step of doing the inverse is just needed for twim eff numbers!! DANGEROUS!\n",
    "    #df_geo[\"geo_corr_factor\"] = 1./df_geo[\"geo_corr_factor\"]\n",
    "    ##data frame for iso correction\n",
    "    df_iso = pd.read_csv(filename_neutron,sep='\\t',names=[\"datatype\",\"targettype\",\"RunID\",\"energy\",\"d_reacted_carbon\",\"all_carbon\"])\n",
    "    df_iso[\"d_12c_survived\"] = 1- df_iso[\"d_reacted_carbon\"]\n",
    "    \n",
    "    tot_error_val = []\n",
    "    cc_error_val = []\n",
    "    iso_error_val = []\n",
    "    \n",
    "    cc_cs = []\n",
    "    cc_cs_geo = []\n",
    "    iso_cs = []\n",
    "    total_cs = []\n",
    "    \n",
    "    energy_vals = [\"400\",\"550\",\"650\",\"800\"]\n",
    "    for ene in energy_vals:\n",
    "        #charge changing cross section\n",
    "        dz = (float(df_cc.loc[(df_cc[\"targettype\"] == targettype) & (df_cc[\"energy\"] == float(ene))]['d_carbon_survived']))/(float(df_cc.loc[(df_cc[\"targettype\"] == \"empty\") & (df_cc[\"energy\"] == float(ene))]['d_carbon_survived']))\n",
    "        cc = factor*(-math.log(dz))\n",
    "        cc_cs.append(cc)\n",
    "        #geo corr cross section\n",
    "        d_geo = float(df_geo.loc[(df_geo[\"targettype\"] == targettype)& (df_geo[\"energy\"] == float(ene))][\"geo_corr_factor\"])/float(df_geo.loc[(df_geo[\"targettype\"] == \"empty\")& (df_geo[\"energy\"] == float(ene))][\"geo_corr_factor\"])\n",
    "        cs_geo = factor*(-math.log(d_geo))\n",
    "        cc_cs_geo.append(cc+cs_geo)\n",
    "        #iso cross section = neutron removal\n",
    "        d_iso = float(df_iso.loc[(df_iso[\"targettype\"] == targettype)& (df_iso[\"energy\"] == float(ene))][\"d_12c_survived\"])/float(df_iso.loc[(df_iso[\"targettype\"] == \"empty\")& (df_iso[\"energy\"] == float(ene))][\"d_12c_survived\"])\n",
    "        cs_iso = factor*(-math.log(d_iso))\n",
    "        iso_cs.append(cs_iso)\n",
    "        tot_cs = cc + cs_geo + cs_iso\n",
    "        total_cs.append(tot_cs)\n",
    "        #print(\"charge changing cross section: \",cc)\n",
    "        #print(\"geo corr cross section: \", cs_geo)\n",
    "        #print(\"iso cross section:\", cs_iso)\n",
    "        ##now doing the stat. uncertainty calculations\n",
    "        \n",
    "        ### target thickness uncertainty\n",
    "        target_error = pow(tot_cs*delta_n_t,2)\n",
    "        \n",
    "        ### charge changing uncertainties\n",
    "        r_cc_target = float(df_cc.loc[(df_cc[\"targettype\"] == targettype) & (df_cc[\"energy\"] == float(ene))]['d_carbon_survived'])\n",
    "        r_cc_empty = float(df_cc.loc[(df_cc[\"targettype\"] == \"empty\") & (df_cc[\"energy\"] == float(ene))]['d_carbon_survived'])\n",
    "        n_i_t_cc = float(df_cc.loc[(df_cc[\"targettype\"] == targettype) & (df_cc[\"energy\"] == float(ene))]['incoming ions'])\n",
    "        n_i_e_cc = float(df_cc.loc[(df_cc[\"targettype\"] == \"empty\") & (df_cc[\"energy\"] == float(ene))]['incoming ions'])\n",
    "        cc_error = (pow(10,54))*(1./(n_t*n_t))*((1-r_cc_target)/(r_cc_target*n_i_t_cc)+(1-r_cc_empty)/(r_cc_empty*n_i_e_cc))\n",
    "        #print(\"cc_error:  \",cc_error)\n",
    "        ### iso correction uncertainties\n",
    "        r_iso_target = float(df_iso.loc[(df_iso[\"targettype\"] == targettype) & (df_iso[\"energy\"] == float(ene))]['d_12c_survived']) \n",
    "        r_iso_empty = float(df_iso.loc[(df_iso[\"targettype\"] == \"empty\") & (df_iso[\"energy\"] == float(ene))]['d_12c_survived'])\n",
    "        n_i_t_iso = float(df_iso.loc[(df_iso[\"targettype\"] == targettype) & (df_iso[\"energy\"] == float(ene))]['all_carbon'])\n",
    "        n_i_e_iso = float(df_iso.loc[(df_iso[\"targettype\"] == \"empty\") & (df_iso[\"energy\"] == float(ene))]['all_carbon'])\n",
    "        iso_error = (pow(10,54))*(1./(n_t*n_t))*((1-r_iso_target)/(r_iso_target*n_i_t_iso)+(1-r_iso_empty)/(r_iso_empty*n_i_e_iso))\n",
    "        #print(\"iso errror: \", math.sqrt(iso_error))\n",
    "        #print(\"target_error:  \",math.sqrt(target_error))\n",
    "        #print(\"cc_error: \", math.sqrt(cc_error+target_error))\n",
    "        \n",
    "        \n",
    "        tot_error = math.sqrt(target_error + cc_error + iso_error)\n",
    "        #print(\"total error\\t\",tot_error)\n",
    "        tot_error_val.append(tot_error)\n",
    "    return total_cs,tot_error_val"
   ]
  },
  {
   "cell_type": "markdown",
   "id": "5806e487-9e18-4829-b8d2-309b3ea96963",
   "metadata": {},
   "source": [
    "### using as geo correction total twim efficiency\n",
    "---"
   ]
  },
  {
   "cell_type": "code",
   "execution_count": 3,
   "id": "c5acbac6-4b4e-4abc-a608-b2bee78e1145",
   "metadata": {},
   "outputs": [
    {
     "data": {
      "image/png": "[encoded data removed]",
      "text/plain": [
       "<Figure size 432x288 with 1 Axes>"
      ]
     },
     "metadata": {
      "needs_background": "light"
     },
     "output_type": "display_data"
    }
   ],
   "source": [
    "test_cc = 'numbers/comb_gauss2d_border.txt'\n",
    "#filename_geo_corr = \"orig_geo_corr_factor.txt\"\n",
    "filename_geo_corr = \"total_eff_twim.txt\"\n",
    "filename_iso_cs = \"./with_stats_iso_corr/stats_inc_mw23_quad4_own_clustering.txt\"\n",
    "\n",
    "\n",
    "total_cs_thin, full_error_val_thin = stat_errors_total(test_cc,filename_iso_cs,filename_geo_corr, \"thin\")\n",
    "total_cs_medium, full_error_val_medium = stat_errors_total(test_cc,filename_iso_cs,filename_geo_corr, \"medium\")\n",
    "total_cs_thick, full_error_val_thick = stat_errors_total(test_cc,filename_iso_cs,filename_geo_corr, \"thick\")\n",
    "\n",
    "fig, ax = plt.subplots()\n",
    "#fig.tight_layout()\n",
    "energy = [400,550,650,800]\n",
    "ax.errorbar(energy,total_cs_thick,yerr=full_error_val_thick,label=\"thick target\",color='red',marker=\"o\",fmt=\"o\")\n",
    "\n",
    "energy = [405,555,655,805]\n",
    "ax.errorbar(energy,total_cs_medium,yerr=full_error_val_medium,label=\"medium target\",color='green',marker=\"v\",fmt=\"o\")\n",
    "\n",
    "energy = [410,560,660,810]\n",
    "ax.errorbar(energy,total_cs_thin,yerr=full_error_val_thin,label=\"thin target\",color='blue',marker=\"s\",fmt=\"o\")\n",
    "\n",
    "ax.legend()\n",
    "ax.grid()\n",
    "ax.set_xlabel(\"Beam Energy [AMeV]\")\n",
    "ax.set_ylabel(\"Total Interaction Cross Section [mbarn]\")\n",
    "ax.set_title(\"Total Interaction Cross Section\")\n",
    "ax.set_ylim(740,890)\n",
    "plt.savefig(\"tot_interaction_cs_twim_eff_corr.png\")"
   ]
  },
  {
   "cell_type": "markdown",
   "id": "aaa9c64b-f88c-42e4-bcea-58312f13e2ea",
   "metadata": {},
   "source": [
    "---"
   ]
  },
  {
   "cell_type": "markdown",
   "id": "a476caeb-7d4d-42a7-9707-a5c1212bba35",
   "metadata": {},
   "source": [
    "### using as geo correction the geometric cuts/reconstructions\n",
    "---"
   ]
  },
  {
   "cell_type": "code",
   "execution_count": 4,
   "id": "0e71d19f-993d-4700-b39e-0b39957f680d",
   "metadata": {},
   "outputs": [
    {
     "data": {
      "image/png": "[encoded data removed]",
      "text/plain": [
       "<Figure size 432x288 with 1 Axes>"
      ]
     },
     "metadata": {
      "needs_background": "light"
     },
     "output_type": "display_data"
    }
   ],
   "source": [
    "test_cc = 'numbers/comb_gauss2d_border.txt'\n",
    "filename_geo_corr = \"orig_geo_corr_factor.txt\"\n",
    "#filename_geo_corr = \"total_eff_twim.txt\"\n",
    "filename_iso_cs = \"./with_stats_iso_corr/stats_inc_mw23_quad4_own_clustering.txt\"\n",
    "#filename_iso_cs = \"./with_stats_iso_corr/comb_oned_3g_puzzle.txt\"\n",
    "\n",
    "\n",
    "total_cs_thin, full_error_val_thin = stat_errors_total(test_cc,filename_iso_cs,filename_geo_corr, \"thin\")\n",
    "total_cs_medium, full_error_val_medium = stat_errors_total(test_cc,filename_iso_cs,filename_geo_corr, \"medium\")\n",
    "total_cs_thick, full_error_val_thick = stat_errors_total(test_cc,filename_iso_cs,filename_geo_corr, \"thick\")\n",
    "\n",
    "fig, ax = plt.subplots()\n",
    "#fig.tight_layout()\n",
    "energy = [400,550,650,800]\n",
    "ax.errorbar(energy,total_cs_thick,yerr=full_error_val_thick,label=\"thick target\",color='red',marker=\"o\",fmt=\"o\")\n",
    "\n",
    "energy = [405,555,655,805]\n",
    "ax.errorbar(energy,total_cs_medium,yerr=full_error_val_medium,label=\"medium target\",color='green',marker=\"v\",fmt=\"o\")\n",
    "\n",
    "energy = [410,560,660,810]\n",
    "ax.errorbar(energy,total_cs_thin,yerr=full_error_val_thin,label=\"thin target\",color='blue',marker=\"s\",fmt=\"o\")\n",
    "\n",
    "ax.legend()\n",
    "ax.grid()\n",
    "ax.set_xlabel(\"Beam Energy [AMeV]\")\n",
    "ax.set_ylabel(\"Total Interaction Cross Section [mbarn]\")\n",
    "ax.set_title(\"Total Interaction Cross Section\")\n",
    "ax.set_ylim(740,890)\n",
    "plt.savefig(\"tot_interaction_cs_geo_corr.png\")"
   ]
  },
  {
   "cell_type": "markdown",
   "id": "b1d80e42-4b07-4613-84a1-ed0e2614b6ce",
   "metadata": {},
   "source": [
    "---"
   ]
  },
  {
   "cell_type": "code",
   "execution_count": null,
   "id": "6c7b631b-e061-4bf9-9f51-d7ce841045b0",
   "metadata": {},
   "outputs": [],
   "source": []
  }
 ],
 "metadata": {
  "kernelspec": {
   "display_name": "Python 3",
   "language": "python",
   "name": "python3"
  },
  "language_info": {
   "codemirror_mode": {
    "name": "ipython",
    "version": 3
   },
   "file_extension": ".py",
   "mimetype": "text/x-python",
   "name": "python",
   "nbconvert_exporter": "python",
   "pygments_lexer": "ipython3",
   "version": "3.6.9"
  }
 },
 "nbformat": 4,
 "nbformat_minor": 5
}
