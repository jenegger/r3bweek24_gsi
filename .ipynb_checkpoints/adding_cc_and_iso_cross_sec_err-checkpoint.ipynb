{
 "cells": [
  {
   "cell_type": "code",
   "execution_count": 4,
   "id": "db73a203",
   "metadata": {},
   "outputs": [],
   "source": [
    "import pandas as pd\n",
    "import numpy as np"
   ]
  },
  {
   "cell_type": "code",
   "execution_count": 5,
   "id": "c5782bba",
   "metadata": {},
   "outputs": [
    {
     "name": "stdout",
     "output_type": "stream",
     "text": [
      "   datatype targettype      RunID  energy      tot_cs   tot_err\n",
      "0       exp       c_54  0179_0001   400.0  798.897576  6.311160\n",
      "1       exp       c_54  0099_0001   550.0  806.994798  8.969853\n",
      "2       exp       c_54  0126_0001   650.0  802.830541  6.114382\n",
      "3       exp       c_54  0166_0001   800.0  840.873304  7.384484\n",
      "4       exp     c_1086  0181_0001   400.0  797.428613  4.365169\n",
      "5       exp     c_1086  0101_0001   550.0  806.923298  5.497096\n",
      "6       exp     c_1086  0127_0001   650.0  811.815829  4.262295\n",
      "7       exp     c_1086  0168_0001   800.0  823.641544  5.149652\n",
      "8       exp     c_2198  0183_0001   400.0  781.592059  2.568039\n",
      "9       exp     c_2198  0103_0001   550.0  809.512988  3.004680\n",
      "10      exp     c_2198  0130_0001   650.0  810.904159  2.410192\n",
      "11      exp     c_2198  0170_0001   800.0  819.624848  2.672872\n"
     ]
    }
   ],
   "source": [
    "file_cc_cs = \"geo_corr_output_cc_cs_final.txt\"\n",
    "df_cc_cs = pd.read_csv(file_cc_cs,sep='\\t',names=[\"datatype\",\"targettype\",\"RunID\",\"energy\",\"cross_sec\",\"error\"])\n",
    "\n",
    "file_iso_cs = \"iso_corr_output_cc_cs_final.txt\"\n",
    "df_iso_cs = pd.read_csv(file_iso_cs,sep='\\t',names=[\"datatype\",\"targettype\",\"RunID\",\"energy\",\"cross_sec\",\"error\"])\n",
    "\n",
    "df_merged = pd.merge(df_cc_cs, df_iso_cs, on=[\"datatype\", \"targettype\", \"RunID\", \"energy\"], suffixes=('_1', '_2'))\n",
    "\n",
    "# Calculate total cross section and error\n",
    "df_merged[\"tot_cs\"] = df_merged[\"cross_sec_1\"] + df_merged[\"cross_sec_2\"]\n",
    "df_merged[\"tot_err\"] = np.sqrt(df_merged[\"error_1\"]**2 + df_merged[\"error_2\"]**2)\n",
    "\n",
    "# Select and reorder columns as needed\n",
    "result_df = df_merged[[\"datatype\", \"targettype\", \"RunID\", \"energy\", \"tot_cs\", \"tot_err\"]]\n",
    "\n",
    "print(result_df)\n",
    "\n",
    "# Save as tab-separated file without header\n",
    "result_df.to_csv(\"merged_tot_cross_sections.txt\", sep='\\t', index=False, header=False)\n",
    "\n",
    "\n",
    "\n"
   ]
  },
  {
   "cell_type": "code",
   "execution_count": null,
   "id": "83933568",
   "metadata": {},
   "outputs": [],
   "source": []
  }
 ],
 "metadata": {
  "kernelspec": {
   "display_name": "Python 3",
   "language": "python",
   "name": "python3"
  },
  "language_info": {
   "codemirror_mode": {
    "name": "ipython",
    "version": 3
   },
   "file_extension": ".py",
   "mimetype": "text/x-python",
   "name": "python",
   "nbconvert_exporter": "python",
   "pygments_lexer": "ipython3",
   "version": "3.6.9"
  }
 },
 "nbformat": 4,
 "nbformat_minor": 5
}
